{
 "cells": [
  {
   "cell_type": "code",
   "execution_count": 866,
   "id": "e5d57f6f-8c7d-45c3-aa70-0bb6e9e23d65",
   "metadata": {},
   "outputs": [],
   "source": [
    "import pandas as pd\n",
    "import warnings\n",
    "import matplotlib.pyplot as plt\n",
    "import seaborn as sns\n",
    "from sklearn.impute import KNNImputer\n",
    "\n",
    "warnings.filterwarnings('ignore') #Filter Warning Messages\n",
    "pd.set_option('display.max_columns',120) ## Set display limit for the columns \n",
    "pd.set_option('display.max_info_columns',120)# set display limit for Info columns\n"
   ]
  },
  {
   "cell_type": "markdown",
   "id": "4421e142-9903-44c1-8d10-2737cc9c0010",
   "metadata": {},
   "source": [
    "## Sourcing Loan.csv Data"
   ]
  },
  {
   "cell_type": "code",
   "execution_count": 867,
   "id": "a5cf7aa8-586f-4b68-b174-96ba0c3f5d5d",
   "metadata": {},
   "outputs": [],
   "source": [
    "# Step1: Importing the Loan.csv Dataset\n",
    "raw=pd.read_csv('Data/loan.csv', low_memory=False)"
   ]
  },
  {
   "cell_type": "code",
   "execution_count": 868,
   "id": "f9555de9-6544-4f78-b141-28d085ff6971",
   "metadata": {},
   "outputs": [
    {
     "data": {
      "text/plain": [
       "(39717, 111)"
      ]
     },
     "execution_count": 868,
     "metadata": {},
     "output_type": "execute_result"
    }
   ],
   "source": [
    "# Step2: Checking the Shape of Loan.csv\n",
    "raw.shape"
   ]
  },
  {
   "cell_type": "code",
   "execution_count": 869,
   "id": "afce5b3a-2e18-4e8a-9790-b60e2686f93f",
   "metadata": {},
   "outputs": [
    {
     "data": {
      "text/html": [
       "<div>\n",
       "<style scoped>\n",
       "    .dataframe tbody tr th:only-of-type {\n",
       "        vertical-align: middle;\n",
       "    }\n",
       "\n",
       "    .dataframe tbody tr th {\n",
       "        vertical-align: top;\n",
       "    }\n",
       "\n",
       "    .dataframe thead th {\n",
       "        text-align: right;\n",
       "    }\n",
       "</style>\n",
       "<table border=\"1\" class=\"dataframe\">\n",
       "  <thead>\n",
       "    <tr style=\"text-align: right;\">\n",
       "      <th></th>\n",
       "      <th>id</th>\n",
       "      <th>member_id</th>\n",
       "      <th>loan_amnt</th>\n",
       "      <th>funded_amnt</th>\n",
       "      <th>funded_amnt_inv</th>\n",
       "      <th>term</th>\n",
       "      <th>int_rate</th>\n",
       "      <th>installment</th>\n",
       "      <th>grade</th>\n",
       "      <th>sub_grade</th>\n",
       "      <th>emp_title</th>\n",
       "      <th>emp_length</th>\n",
       "      <th>home_ownership</th>\n",
       "      <th>annual_inc</th>\n",
       "      <th>verification_status</th>\n",
       "      <th>issue_d</th>\n",
       "      <th>loan_status</th>\n",
       "      <th>pymnt_plan</th>\n",
       "      <th>url</th>\n",
       "      <th>desc</th>\n",
       "      <th>purpose</th>\n",
       "      <th>title</th>\n",
       "      <th>zip_code</th>\n",
       "      <th>addr_state</th>\n",
       "      <th>dti</th>\n",
       "      <th>delinq_2yrs</th>\n",
       "      <th>earliest_cr_line</th>\n",
       "      <th>inq_last_6mths</th>\n",
       "      <th>mths_since_last_delinq</th>\n",
       "      <th>mths_since_last_record</th>\n",
       "      <th>open_acc</th>\n",
       "      <th>pub_rec</th>\n",
       "      <th>revol_bal</th>\n",
       "      <th>revol_util</th>\n",
       "      <th>total_acc</th>\n",
       "      <th>initial_list_status</th>\n",
       "      <th>out_prncp</th>\n",
       "      <th>out_prncp_inv</th>\n",
       "      <th>total_pymnt</th>\n",
       "      <th>total_pymnt_inv</th>\n",
       "      <th>total_rec_prncp</th>\n",
       "      <th>total_rec_int</th>\n",
       "      <th>total_rec_late_fee</th>\n",
       "      <th>recoveries</th>\n",
       "      <th>collection_recovery_fee</th>\n",
       "      <th>last_pymnt_d</th>\n",
       "      <th>last_pymnt_amnt</th>\n",
       "      <th>next_pymnt_d</th>\n",
       "      <th>last_credit_pull_d</th>\n",
       "      <th>collections_12_mths_ex_med</th>\n",
       "      <th>mths_since_last_major_derog</th>\n",
       "      <th>policy_code</th>\n",
       "      <th>application_type</th>\n",
       "      <th>annual_inc_joint</th>\n",
       "      <th>dti_joint</th>\n",
       "      <th>verification_status_joint</th>\n",
       "      <th>acc_now_delinq</th>\n",
       "      <th>tot_coll_amt</th>\n",
       "      <th>tot_cur_bal</th>\n",
       "      <th>open_acc_6m</th>\n",
       "      <th>open_il_6m</th>\n",
       "      <th>open_il_12m</th>\n",
       "      <th>open_il_24m</th>\n",
       "      <th>mths_since_rcnt_il</th>\n",
       "      <th>total_bal_il</th>\n",
       "      <th>il_util</th>\n",
       "      <th>open_rv_12m</th>\n",
       "      <th>open_rv_24m</th>\n",
       "      <th>max_bal_bc</th>\n",
       "      <th>all_util</th>\n",
       "      <th>total_rev_hi_lim</th>\n",
       "      <th>inq_fi</th>\n",
       "      <th>total_cu_tl</th>\n",
       "      <th>inq_last_12m</th>\n",
       "      <th>acc_open_past_24mths</th>\n",
       "      <th>avg_cur_bal</th>\n",
       "      <th>bc_open_to_buy</th>\n",
       "      <th>bc_util</th>\n",
       "      <th>chargeoff_within_12_mths</th>\n",
       "      <th>delinq_amnt</th>\n",
       "      <th>mo_sin_old_il_acct</th>\n",
       "      <th>mo_sin_old_rev_tl_op</th>\n",
       "      <th>mo_sin_rcnt_rev_tl_op</th>\n",
       "      <th>mo_sin_rcnt_tl</th>\n",
       "      <th>mort_acc</th>\n",
       "      <th>mths_since_recent_bc</th>\n",
       "      <th>mths_since_recent_bc_dlq</th>\n",
       "      <th>mths_since_recent_inq</th>\n",
       "      <th>mths_since_recent_revol_delinq</th>\n",
       "      <th>num_accts_ever_120_pd</th>\n",
       "      <th>num_actv_bc_tl</th>\n",
       "      <th>num_actv_rev_tl</th>\n",
       "      <th>num_bc_sats</th>\n",
       "      <th>num_bc_tl</th>\n",
       "      <th>num_il_tl</th>\n",
       "      <th>num_op_rev_tl</th>\n",
       "      <th>num_rev_accts</th>\n",
       "      <th>num_rev_tl_bal_gt_0</th>\n",
       "      <th>num_sats</th>\n",
       "      <th>num_tl_120dpd_2m</th>\n",
       "      <th>num_tl_30dpd</th>\n",
       "      <th>num_tl_90g_dpd_24m</th>\n",
       "      <th>num_tl_op_past_12m</th>\n",
       "      <th>pct_tl_nvr_dlq</th>\n",
       "      <th>percent_bc_gt_75</th>\n",
       "      <th>pub_rec_bankruptcies</th>\n",
       "      <th>tax_liens</th>\n",
       "      <th>tot_hi_cred_lim</th>\n",
       "      <th>total_bal_ex_mort</th>\n",
       "      <th>total_bc_limit</th>\n",
       "      <th>total_il_high_credit_limit</th>\n",
       "    </tr>\n",
       "  </thead>\n",
       "  <tbody>\n",
       "    <tr>\n",
       "      <th>0</th>\n",
       "      <td>1077501</td>\n",
       "      <td>1296599</td>\n",
       "      <td>5000</td>\n",
       "      <td>5000</td>\n",
       "      <td>4975.0</td>\n",
       "      <td>36 months</td>\n",
       "      <td>10.65%</td>\n",
       "      <td>162.87</td>\n",
       "      <td>B</td>\n",
       "      <td>B2</td>\n",
       "      <td>NaN</td>\n",
       "      <td>10+ years</td>\n",
       "      <td>RENT</td>\n",
       "      <td>24000.0</td>\n",
       "      <td>Verified</td>\n",
       "      <td>Dec-11</td>\n",
       "      <td>Fully Paid</td>\n",
       "      <td>n</td>\n",
       "      <td>https://lendingclub.com/browse/loanDetail.acti...</td>\n",
       "      <td>Borrower added on 12/22/11 &gt; I need to upgra...</td>\n",
       "      <td>credit_card</td>\n",
       "      <td>Computer</td>\n",
       "      <td>860xx</td>\n",
       "      <td>AZ</td>\n",
       "      <td>27.65</td>\n",
       "      <td>0</td>\n",
       "      <td>Jan-85</td>\n",
       "      <td>1</td>\n",
       "      <td>NaN</td>\n",
       "      <td>NaN</td>\n",
       "      <td>3</td>\n",
       "      <td>0</td>\n",
       "      <td>13648</td>\n",
       "      <td>83.70%</td>\n",
       "      <td>9</td>\n",
       "      <td>f</td>\n",
       "      <td>0.0</td>\n",
       "      <td>0.0</td>\n",
       "      <td>5863.155187</td>\n",
       "      <td>5833.84</td>\n",
       "      <td>5000.00</td>\n",
       "      <td>863.16</td>\n",
       "      <td>0.0</td>\n",
       "      <td>0.00</td>\n",
       "      <td>0.00</td>\n",
       "      <td>Jan-15</td>\n",
       "      <td>171.62</td>\n",
       "      <td>NaN</td>\n",
       "      <td>May-16</td>\n",
       "      <td>0.0</td>\n",
       "      <td>NaN</td>\n",
       "      <td>1</td>\n",
       "      <td>INDIVIDUAL</td>\n",
       "      <td>NaN</td>\n",
       "      <td>NaN</td>\n",
       "      <td>NaN</td>\n",
       "      <td>0</td>\n",
       "      <td>NaN</td>\n",
       "      <td>NaN</td>\n",
       "      <td>NaN</td>\n",
       "      <td>NaN</td>\n",
       "      <td>NaN</td>\n",
       "      <td>NaN</td>\n",
       "      <td>NaN</td>\n",
       "      <td>NaN</td>\n",
       "      <td>NaN</td>\n",
       "      <td>NaN</td>\n",
       "      <td>NaN</td>\n",
       "      <td>NaN</td>\n",
       "      <td>NaN</td>\n",
       "      <td>NaN</td>\n",
       "      <td>NaN</td>\n",
       "      <td>NaN</td>\n",
       "      <td>NaN</td>\n",
       "      <td>NaN</td>\n",
       "      <td>NaN</td>\n",
       "      <td>NaN</td>\n",
       "      <td>NaN</td>\n",
       "      <td>0.0</td>\n",
       "      <td>0</td>\n",
       "      <td>NaN</td>\n",
       "      <td>NaN</td>\n",
       "      <td>NaN</td>\n",
       "      <td>NaN</td>\n",
       "      <td>NaN</td>\n",
       "      <td>NaN</td>\n",
       "      <td>NaN</td>\n",
       "      <td>NaN</td>\n",
       "      <td>NaN</td>\n",
       "      <td>NaN</td>\n",
       "      <td>NaN</td>\n",
       "      <td>NaN</td>\n",
       "      <td>NaN</td>\n",
       "      <td>NaN</td>\n",
       "      <td>NaN</td>\n",
       "      <td>NaN</td>\n",
       "      <td>NaN</td>\n",
       "      <td>NaN</td>\n",
       "      <td>NaN</td>\n",
       "      <td>NaN</td>\n",
       "      <td>NaN</td>\n",
       "      <td>NaN</td>\n",
       "      <td>NaN</td>\n",
       "      <td>NaN</td>\n",
       "      <td>NaN</td>\n",
       "      <td>0.0</td>\n",
       "      <td>0.0</td>\n",
       "      <td>NaN</td>\n",
       "      <td>NaN</td>\n",
       "      <td>NaN</td>\n",
       "      <td>NaN</td>\n",
       "    </tr>\n",
       "    <tr>\n",
       "      <th>1</th>\n",
       "      <td>1077430</td>\n",
       "      <td>1314167</td>\n",
       "      <td>2500</td>\n",
       "      <td>2500</td>\n",
       "      <td>2500.0</td>\n",
       "      <td>60 months</td>\n",
       "      <td>15.27%</td>\n",
       "      <td>59.83</td>\n",
       "      <td>C</td>\n",
       "      <td>C4</td>\n",
       "      <td>Ryder</td>\n",
       "      <td>&lt; 1 year</td>\n",
       "      <td>RENT</td>\n",
       "      <td>30000.0</td>\n",
       "      <td>Source Verified</td>\n",
       "      <td>Dec-11</td>\n",
       "      <td>Charged Off</td>\n",
       "      <td>n</td>\n",
       "      <td>https://lendingclub.com/browse/loanDetail.acti...</td>\n",
       "      <td>Borrower added on 12/22/11 &gt; I plan to use t...</td>\n",
       "      <td>car</td>\n",
       "      <td>bike</td>\n",
       "      <td>309xx</td>\n",
       "      <td>GA</td>\n",
       "      <td>1.00</td>\n",
       "      <td>0</td>\n",
       "      <td>Apr-99</td>\n",
       "      <td>5</td>\n",
       "      <td>NaN</td>\n",
       "      <td>NaN</td>\n",
       "      <td>3</td>\n",
       "      <td>0</td>\n",
       "      <td>1687</td>\n",
       "      <td>9.40%</td>\n",
       "      <td>4</td>\n",
       "      <td>f</td>\n",
       "      <td>0.0</td>\n",
       "      <td>0.0</td>\n",
       "      <td>1008.710000</td>\n",
       "      <td>1008.71</td>\n",
       "      <td>456.46</td>\n",
       "      <td>435.17</td>\n",
       "      <td>0.0</td>\n",
       "      <td>117.08</td>\n",
       "      <td>1.11</td>\n",
       "      <td>Apr-13</td>\n",
       "      <td>119.66</td>\n",
       "      <td>NaN</td>\n",
       "      <td>Sep-13</td>\n",
       "      <td>0.0</td>\n",
       "      <td>NaN</td>\n",
       "      <td>1</td>\n",
       "      <td>INDIVIDUAL</td>\n",
       "      <td>NaN</td>\n",
       "      <td>NaN</td>\n",
       "      <td>NaN</td>\n",
       "      <td>0</td>\n",
       "      <td>NaN</td>\n",
       "      <td>NaN</td>\n",
       "      <td>NaN</td>\n",
       "      <td>NaN</td>\n",
       "      <td>NaN</td>\n",
       "      <td>NaN</td>\n",
       "      <td>NaN</td>\n",
       "      <td>NaN</td>\n",
       "      <td>NaN</td>\n",
       "      <td>NaN</td>\n",
       "      <td>NaN</td>\n",
       "      <td>NaN</td>\n",
       "      <td>NaN</td>\n",
       "      <td>NaN</td>\n",
       "      <td>NaN</td>\n",
       "      <td>NaN</td>\n",
       "      <td>NaN</td>\n",
       "      <td>NaN</td>\n",
       "      <td>NaN</td>\n",
       "      <td>NaN</td>\n",
       "      <td>NaN</td>\n",
       "      <td>0.0</td>\n",
       "      <td>0</td>\n",
       "      <td>NaN</td>\n",
       "      <td>NaN</td>\n",
       "      <td>NaN</td>\n",
       "      <td>NaN</td>\n",
       "      <td>NaN</td>\n",
       "      <td>NaN</td>\n",
       "      <td>NaN</td>\n",
       "      <td>NaN</td>\n",
       "      <td>NaN</td>\n",
       "      <td>NaN</td>\n",
       "      <td>NaN</td>\n",
       "      <td>NaN</td>\n",
       "      <td>NaN</td>\n",
       "      <td>NaN</td>\n",
       "      <td>NaN</td>\n",
       "      <td>NaN</td>\n",
       "      <td>NaN</td>\n",
       "      <td>NaN</td>\n",
       "      <td>NaN</td>\n",
       "      <td>NaN</td>\n",
       "      <td>NaN</td>\n",
       "      <td>NaN</td>\n",
       "      <td>NaN</td>\n",
       "      <td>NaN</td>\n",
       "      <td>NaN</td>\n",
       "      <td>0.0</td>\n",
       "      <td>0.0</td>\n",
       "      <td>NaN</td>\n",
       "      <td>NaN</td>\n",
       "      <td>NaN</td>\n",
       "      <td>NaN</td>\n",
       "    </tr>\n",
       "  </tbody>\n",
       "</table>\n",
       "</div>"
      ],
      "text/plain": [
       "        id  member_id  loan_amnt  funded_amnt  funded_amnt_inv        term  \\\n",
       "0  1077501    1296599       5000         5000           4975.0   36 months   \n",
       "1  1077430    1314167       2500         2500           2500.0   60 months   \n",
       "\n",
       "  int_rate  installment grade sub_grade emp_title emp_length home_ownership  \\\n",
       "0   10.65%       162.87     B        B2       NaN  10+ years           RENT   \n",
       "1   15.27%        59.83     C        C4     Ryder   < 1 year           RENT   \n",
       "\n",
       "   annual_inc verification_status issue_d  loan_status pymnt_plan  \\\n",
       "0     24000.0            Verified  Dec-11   Fully Paid          n   \n",
       "1     30000.0     Source Verified  Dec-11  Charged Off          n   \n",
       "\n",
       "                                                 url  \\\n",
       "0  https://lendingclub.com/browse/loanDetail.acti...   \n",
       "1  https://lendingclub.com/browse/loanDetail.acti...   \n",
       "\n",
       "                                                desc      purpose     title  \\\n",
       "0    Borrower added on 12/22/11 > I need to upgra...  credit_card  Computer   \n",
       "1    Borrower added on 12/22/11 > I plan to use t...          car      bike   \n",
       "\n",
       "  zip_code addr_state    dti  delinq_2yrs earliest_cr_line  inq_last_6mths  \\\n",
       "0    860xx         AZ  27.65            0           Jan-85               1   \n",
       "1    309xx         GA   1.00            0           Apr-99               5   \n",
       "\n",
       "   mths_since_last_delinq  mths_since_last_record  open_acc  pub_rec  \\\n",
       "0                     NaN                     NaN         3        0   \n",
       "1                     NaN                     NaN         3        0   \n",
       "\n",
       "   revol_bal revol_util  total_acc initial_list_status  out_prncp  \\\n",
       "0      13648     83.70%          9                   f        0.0   \n",
       "1       1687      9.40%          4                   f        0.0   \n",
       "\n",
       "   out_prncp_inv  total_pymnt  total_pymnt_inv  total_rec_prncp  \\\n",
       "0            0.0  5863.155187          5833.84          5000.00   \n",
       "1            0.0  1008.710000          1008.71           456.46   \n",
       "\n",
       "   total_rec_int  total_rec_late_fee  recoveries  collection_recovery_fee  \\\n",
       "0         863.16                 0.0        0.00                     0.00   \n",
       "1         435.17                 0.0      117.08                     1.11   \n",
       "\n",
       "  last_pymnt_d  last_pymnt_amnt next_pymnt_d last_credit_pull_d  \\\n",
       "0       Jan-15           171.62          NaN             May-16   \n",
       "1       Apr-13           119.66          NaN             Sep-13   \n",
       "\n",
       "   collections_12_mths_ex_med  mths_since_last_major_derog  policy_code  \\\n",
       "0                         0.0                          NaN            1   \n",
       "1                         0.0                          NaN            1   \n",
       "\n",
       "  application_type  annual_inc_joint  dti_joint  verification_status_joint  \\\n",
       "0       INDIVIDUAL               NaN        NaN                        NaN   \n",
       "1       INDIVIDUAL               NaN        NaN                        NaN   \n",
       "\n",
       "   acc_now_delinq  tot_coll_amt  tot_cur_bal  open_acc_6m  open_il_6m  \\\n",
       "0               0           NaN          NaN          NaN         NaN   \n",
       "1               0           NaN          NaN          NaN         NaN   \n",
       "\n",
       "   open_il_12m  open_il_24m  mths_since_rcnt_il  total_bal_il  il_util  \\\n",
       "0          NaN          NaN                 NaN           NaN      NaN   \n",
       "1          NaN          NaN                 NaN           NaN      NaN   \n",
       "\n",
       "   open_rv_12m  open_rv_24m  max_bal_bc  all_util  total_rev_hi_lim  inq_fi  \\\n",
       "0          NaN          NaN         NaN       NaN               NaN     NaN   \n",
       "1          NaN          NaN         NaN       NaN               NaN     NaN   \n",
       "\n",
       "   total_cu_tl  inq_last_12m  acc_open_past_24mths  avg_cur_bal  \\\n",
       "0          NaN           NaN                   NaN          NaN   \n",
       "1          NaN           NaN                   NaN          NaN   \n",
       "\n",
       "   bc_open_to_buy  bc_util  chargeoff_within_12_mths  delinq_amnt  \\\n",
       "0             NaN      NaN                       0.0            0   \n",
       "1             NaN      NaN                       0.0            0   \n",
       "\n",
       "   mo_sin_old_il_acct  mo_sin_old_rev_tl_op  mo_sin_rcnt_rev_tl_op  \\\n",
       "0                 NaN                   NaN                    NaN   \n",
       "1                 NaN                   NaN                    NaN   \n",
       "\n",
       "   mo_sin_rcnt_tl  mort_acc  mths_since_recent_bc  mths_since_recent_bc_dlq  \\\n",
       "0             NaN       NaN                   NaN                       NaN   \n",
       "1             NaN       NaN                   NaN                       NaN   \n",
       "\n",
       "   mths_since_recent_inq  mths_since_recent_revol_delinq  \\\n",
       "0                    NaN                             NaN   \n",
       "1                    NaN                             NaN   \n",
       "\n",
       "   num_accts_ever_120_pd  num_actv_bc_tl  num_actv_rev_tl  num_bc_sats  \\\n",
       "0                    NaN             NaN              NaN          NaN   \n",
       "1                    NaN             NaN              NaN          NaN   \n",
       "\n",
       "   num_bc_tl  num_il_tl  num_op_rev_tl  num_rev_accts  num_rev_tl_bal_gt_0  \\\n",
       "0        NaN        NaN            NaN            NaN                  NaN   \n",
       "1        NaN        NaN            NaN            NaN                  NaN   \n",
       "\n",
       "   num_sats  num_tl_120dpd_2m  num_tl_30dpd  num_tl_90g_dpd_24m  \\\n",
       "0       NaN               NaN           NaN                 NaN   \n",
       "1       NaN               NaN           NaN                 NaN   \n",
       "\n",
       "   num_tl_op_past_12m  pct_tl_nvr_dlq  percent_bc_gt_75  pub_rec_bankruptcies  \\\n",
       "0                 NaN             NaN               NaN                   0.0   \n",
       "1                 NaN             NaN               NaN                   0.0   \n",
       "\n",
       "   tax_liens  tot_hi_cred_lim  total_bal_ex_mort  total_bc_limit  \\\n",
       "0        0.0              NaN                NaN             NaN   \n",
       "1        0.0              NaN                NaN             NaN   \n",
       "\n",
       "   total_il_high_credit_limit  \n",
       "0                         NaN  \n",
       "1                         NaN  "
      ]
     },
     "execution_count": 869,
     "metadata": {},
     "output_type": "execute_result"
    }
   ],
   "source": [
    "# Step3: Checking Sample data of loan.csv\n",
    "raw.head(2) "
   ]
  },
  {
   "cell_type": "code",
   "execution_count": 870,
   "id": "5af65d87-5023-4f5b-8209-bbea6075fd37",
   "metadata": {},
   "outputs": [
    {
     "name": "stdout",
     "output_type": "stream",
     "text": [
      "Total number of numeric Columns: 87\n",
      "Total number of categorical Columns: 24\n"
     ]
    }
   ],
   "source": [
    "# Step4: Checking the count of toal numerical and categorical columns in loan.csv\n",
    "\n",
    "print('Total number of numeric Columns: {}'.format( len([col for col in raw if raw[col].dtype!='object'])))\n",
    "print('Total number of categorical Columns: {}'.format( len([col for col in raw if raw[col].dtype=='object'])))\n"
   ]
  },
  {
   "cell_type": "code",
   "execution_count": 871,
   "id": "87b2073d-3d4a-4fd6-b1a6-e6a097190061",
   "metadata": {},
   "outputs": [],
   "source": [
    "# Step 5: Checking Non-null information about  Loan.csv"
   ]
  },
  {
   "cell_type": "code",
   "execution_count": 872,
   "id": "f089ae14-29b7-4a50-86f4-3068d62cd50e",
   "metadata": {
    "tags": []
   },
   "outputs": [
    {
     "name": "stdout",
     "output_type": "stream",
     "text": [
      "<class 'pandas.core.frame.DataFrame'>\n",
      "RangeIndex: 39717 entries, 0 to 39716\n",
      "Data columns (total 111 columns):\n",
      " #    Column                          Non-Null Count  Dtype  \n",
      "---   ------                          --------------  -----  \n",
      " 0    id                              39717 non-null  int64  \n",
      " 1    member_id                       39717 non-null  int64  \n",
      " 2    loan_amnt                       39717 non-null  int64  \n",
      " 3    funded_amnt                     39717 non-null  int64  \n",
      " 4    funded_amnt_inv                 39717 non-null  float64\n",
      " 5    term                            39717 non-null  object \n",
      " 6    int_rate                        39717 non-null  object \n",
      " 7    installment                     39717 non-null  float64\n",
      " 8    grade                           39717 non-null  object \n",
      " 9    sub_grade                       39717 non-null  object \n",
      " 10   emp_title                       37258 non-null  object \n",
      " 11   emp_length                      38642 non-null  object \n",
      " 12   home_ownership                  39717 non-null  object \n",
      " 13   annual_inc                      39717 non-null  float64\n",
      " 14   verification_status             39717 non-null  object \n",
      " 15   issue_d                         39717 non-null  object \n",
      " 16   loan_status                     39717 non-null  object \n",
      " 17   pymnt_plan                      39717 non-null  object \n",
      " 18   url                             39717 non-null  object \n",
      " 19   desc                            26777 non-null  object \n",
      " 20   purpose                         39717 non-null  object \n",
      " 21   title                           39706 non-null  object \n",
      " 22   zip_code                        39717 non-null  object \n",
      " 23   addr_state                      39717 non-null  object \n",
      " 24   dti                             39717 non-null  float64\n",
      " 25   delinq_2yrs                     39717 non-null  int64  \n",
      " 26   earliest_cr_line                39717 non-null  object \n",
      " 27   inq_last_6mths                  39717 non-null  int64  \n",
      " 28   mths_since_last_delinq          14035 non-null  float64\n",
      " 29   mths_since_last_record          2786 non-null   float64\n",
      " 30   open_acc                        39717 non-null  int64  \n",
      " 31   pub_rec                         39717 non-null  int64  \n",
      " 32   revol_bal                       39717 non-null  int64  \n",
      " 33   revol_util                      39667 non-null  object \n",
      " 34   total_acc                       39717 non-null  int64  \n",
      " 35   initial_list_status             39717 non-null  object \n",
      " 36   out_prncp                       39717 non-null  float64\n",
      " 37   out_prncp_inv                   39717 non-null  float64\n",
      " 38   total_pymnt                     39717 non-null  float64\n",
      " 39   total_pymnt_inv                 39717 non-null  float64\n",
      " 40   total_rec_prncp                 39717 non-null  float64\n",
      " 41   total_rec_int                   39717 non-null  float64\n",
      " 42   total_rec_late_fee              39717 non-null  float64\n",
      " 43   recoveries                      39717 non-null  float64\n",
      " 44   collection_recovery_fee         39717 non-null  float64\n",
      " 45   last_pymnt_d                    39646 non-null  object \n",
      " 46   last_pymnt_amnt                 39717 non-null  float64\n",
      " 47   next_pymnt_d                    1140 non-null   object \n",
      " 48   last_credit_pull_d              39715 non-null  object \n",
      " 49   collections_12_mths_ex_med      39661 non-null  float64\n",
      " 50   mths_since_last_major_derog     0 non-null      float64\n",
      " 51   policy_code                     39717 non-null  int64  \n",
      " 52   application_type                39717 non-null  object \n",
      " 53   annual_inc_joint                0 non-null      float64\n",
      " 54   dti_joint                       0 non-null      float64\n",
      " 55   verification_status_joint       0 non-null      float64\n",
      " 56   acc_now_delinq                  39717 non-null  int64  \n",
      " 57   tot_coll_amt                    0 non-null      float64\n",
      " 58   tot_cur_bal                     0 non-null      float64\n",
      " 59   open_acc_6m                     0 non-null      float64\n",
      " 60   open_il_6m                      0 non-null      float64\n",
      " 61   open_il_12m                     0 non-null      float64\n",
      " 62   open_il_24m                     0 non-null      float64\n",
      " 63   mths_since_rcnt_il              0 non-null      float64\n",
      " 64   total_bal_il                    0 non-null      float64\n",
      " 65   il_util                         0 non-null      float64\n",
      " 66   open_rv_12m                     0 non-null      float64\n",
      " 67   open_rv_24m                     0 non-null      float64\n",
      " 68   max_bal_bc                      0 non-null      float64\n",
      " 69   all_util                        0 non-null      float64\n",
      " 70   total_rev_hi_lim                0 non-null      float64\n",
      " 71   inq_fi                          0 non-null      float64\n",
      " 72   total_cu_tl                     0 non-null      float64\n",
      " 73   inq_last_12m                    0 non-null      float64\n",
      " 74   acc_open_past_24mths            0 non-null      float64\n",
      " 75   avg_cur_bal                     0 non-null      float64\n",
      " 76   bc_open_to_buy                  0 non-null      float64\n",
      " 77   bc_util                         0 non-null      float64\n",
      " 78   chargeoff_within_12_mths        39661 non-null  float64\n",
      " 79   delinq_amnt                     39717 non-null  int64  \n",
      " 80   mo_sin_old_il_acct              0 non-null      float64\n",
      " 81   mo_sin_old_rev_tl_op            0 non-null      float64\n",
      " 82   mo_sin_rcnt_rev_tl_op           0 non-null      float64\n",
      " 83   mo_sin_rcnt_tl                  0 non-null      float64\n",
      " 84   mort_acc                        0 non-null      float64\n",
      " 85   mths_since_recent_bc            0 non-null      float64\n",
      " 86   mths_since_recent_bc_dlq        0 non-null      float64\n",
      " 87   mths_since_recent_inq           0 non-null      float64\n",
      " 88   mths_since_recent_revol_delinq  0 non-null      float64\n",
      " 89   num_accts_ever_120_pd           0 non-null      float64\n",
      " 90   num_actv_bc_tl                  0 non-null      float64\n",
      " 91   num_actv_rev_tl                 0 non-null      float64\n",
      " 92   num_bc_sats                     0 non-null      float64\n",
      " 93   num_bc_tl                       0 non-null      float64\n",
      " 94   num_il_tl                       0 non-null      float64\n",
      " 95   num_op_rev_tl                   0 non-null      float64\n",
      " 96   num_rev_accts                   0 non-null      float64\n",
      " 97   num_rev_tl_bal_gt_0             0 non-null      float64\n",
      " 98   num_sats                        0 non-null      float64\n",
      " 99   num_tl_120dpd_2m                0 non-null      float64\n",
      " 100  num_tl_30dpd                    0 non-null      float64\n",
      " 101  num_tl_90g_dpd_24m              0 non-null      float64\n",
      " 102  num_tl_op_past_12m              0 non-null      float64\n",
      " 103  pct_tl_nvr_dlq                  0 non-null      float64\n",
      " 104  percent_bc_gt_75                0 non-null      float64\n",
      " 105  pub_rec_bankruptcies            39020 non-null  float64\n",
      " 106  tax_liens                       39678 non-null  float64\n",
      " 107  tot_hi_cred_lim                 0 non-null      float64\n",
      " 108  total_bal_ex_mort               0 non-null      float64\n",
      " 109  total_bc_limit                  0 non-null      float64\n",
      " 110  total_il_high_credit_limit      0 non-null      float64\n",
      "dtypes: float64(74), int64(13), object(24)\n",
      "memory usage: 33.6+ MB\n"
     ]
    }
   ],
   "source": [
    "raw.info()"
   ]
  },
  {
   "cell_type": "markdown",
   "id": "b01c238a-86b0-4ce6-b634-2861f57ca0af",
   "metadata": {},
   "source": [
    "## Data Cleansing "
   ]
  },
  {
   "cell_type": "markdown",
   "id": "8ed4956e-6ad0-494d-b473-a795a96399f8",
   "metadata": {},
   "source": [
    "#### Removing Duplicate Rows"
   ]
  },
  {
   "cell_type": "code",
   "execution_count": 873,
   "id": "5193d921-4f55-4fa1-9813-10e3a3cee4bd",
   "metadata": {},
   "outputs": [],
   "source": [
    "raw_0=raw.drop_duplicates()"
   ]
  },
  {
   "cell_type": "code",
   "execution_count": 874,
   "id": "956a0c84-1b53-40fa-8dac-b2e90268670d",
   "metadata": {},
   "outputs": [
    {
     "name": "stdout",
     "output_type": "stream",
     "text": [
      "No row level Duplicate Records Observed\n"
     ]
    }
   ],
   "source": [
    "if raw.shape[0] == raw_0.shape[0]:\n",
    "    print('No row level Duplicate Records Observed')\n",
    "else :\n",
    "    print('{} Duplicate Records were removed'.format(int(raw.shape[0])-int(raw_0.shape[0])))"
   ]
  },
  {
   "cell_type": "markdown",
   "id": "e9a24317-8350-4cdf-9d82-97c17c52ae73",
   "metadata": {},
   "source": [
    "## Null/Missing Value Analysis"
   ]
  },
  {
   "cell_type": "code",
   "execution_count": 963,
   "id": "c640f442-9cd3-4040-b4b4-1a0e3a807ebb",
   "metadata": {},
   "outputs": [],
   "source": [
    "nulls=pd.DataFrame([[ col for col in raw_0 if raw_0[col].isnull().sum() !=0],\n",
    "      [ round((raw_0[col].isnull().sum())*100/len(raw_0)) for col in raw_0 if raw_0[col].isnull().sum() !=0]]).transpose()"
   ]
  },
  {
   "cell_type": "code",
   "execution_count": 876,
   "id": "f49ed770-e61f-4a49-af92-d0465b71fcca",
   "metadata": {
    "tags": []
   },
   "outputs": [
    {
     "data": {
      "text/html": [
       "<div>\n",
       "<style scoped>\n",
       "    .dataframe tbody tr th:only-of-type {\n",
       "        vertical-align: middle;\n",
       "    }\n",
       "\n",
       "    .dataframe tbody tr th {\n",
       "        vertical-align: top;\n",
       "    }\n",
       "\n",
       "    .dataframe thead th {\n",
       "        text-align: right;\n",
       "    }\n",
       "</style>\n",
       "<table border=\"1\" class=\"dataframe\">\n",
       "  <thead>\n",
       "    <tr style=\"text-align: right;\">\n",
       "      <th></th>\n",
       "      <th>0</th>\n",
       "      <th>1</th>\n",
       "      <th>2</th>\n",
       "      <th>3</th>\n",
       "      <th>4</th>\n",
       "      <th>5</th>\n",
       "      <th>6</th>\n",
       "      <th>7</th>\n",
       "      <th>8</th>\n",
       "      <th>9</th>\n",
       "      <th>10</th>\n",
       "      <th>11</th>\n",
       "      <th>12</th>\n",
       "      <th>13</th>\n",
       "      <th>14</th>\n",
       "      <th>15</th>\n",
       "      <th>16</th>\n",
       "      <th>17</th>\n",
       "      <th>18</th>\n",
       "      <th>19</th>\n",
       "      <th>20</th>\n",
       "      <th>21</th>\n",
       "      <th>22</th>\n",
       "      <th>23</th>\n",
       "      <th>24</th>\n",
       "      <th>25</th>\n",
       "      <th>26</th>\n",
       "      <th>27</th>\n",
       "      <th>28</th>\n",
       "      <th>29</th>\n",
       "      <th>30</th>\n",
       "      <th>31</th>\n",
       "      <th>32</th>\n",
       "      <th>33</th>\n",
       "      <th>34</th>\n",
       "      <th>35</th>\n",
       "      <th>36</th>\n",
       "      <th>37</th>\n",
       "      <th>38</th>\n",
       "      <th>39</th>\n",
       "      <th>40</th>\n",
       "      <th>41</th>\n",
       "      <th>42</th>\n",
       "      <th>43</th>\n",
       "      <th>44</th>\n",
       "      <th>45</th>\n",
       "      <th>46</th>\n",
       "      <th>47</th>\n",
       "      <th>48</th>\n",
       "      <th>49</th>\n",
       "      <th>50</th>\n",
       "      <th>51</th>\n",
       "      <th>52</th>\n",
       "      <th>53</th>\n",
       "      <th>54</th>\n",
       "      <th>55</th>\n",
       "      <th>56</th>\n",
       "      <th>57</th>\n",
       "      <th>58</th>\n",
       "      <th>59</th>\n",
       "      <th>60</th>\n",
       "      <th>61</th>\n",
       "      <th>62</th>\n",
       "      <th>63</th>\n",
       "      <th>64</th>\n",
       "      <th>65</th>\n",
       "      <th>66</th>\n",
       "      <th>67</th>\n",
       "    </tr>\n",
       "  </thead>\n",
       "  <tbody>\n",
       "    <tr>\n",
       "      <th>column</th>\n",
       "      <td>emp_title</td>\n",
       "      <td>emp_length</td>\n",
       "      <td>desc</td>\n",
       "      <td>title</td>\n",
       "      <td>mths_since_last_delinq</td>\n",
       "      <td>mths_since_last_record</td>\n",
       "      <td>revol_util</td>\n",
       "      <td>last_pymnt_d</td>\n",
       "      <td>next_pymnt_d</td>\n",
       "      <td>last_credit_pull_d</td>\n",
       "      <td>collections_12_mths_ex_med</td>\n",
       "      <td>mths_since_last_major_derog</td>\n",
       "      <td>annual_inc_joint</td>\n",
       "      <td>dti_joint</td>\n",
       "      <td>verification_status_joint</td>\n",
       "      <td>tot_coll_amt</td>\n",
       "      <td>tot_cur_bal</td>\n",
       "      <td>open_acc_6m</td>\n",
       "      <td>open_il_6m</td>\n",
       "      <td>open_il_12m</td>\n",
       "      <td>open_il_24m</td>\n",
       "      <td>mths_since_rcnt_il</td>\n",
       "      <td>total_bal_il</td>\n",
       "      <td>il_util</td>\n",
       "      <td>open_rv_12m</td>\n",
       "      <td>open_rv_24m</td>\n",
       "      <td>max_bal_bc</td>\n",
       "      <td>all_util</td>\n",
       "      <td>total_rev_hi_lim</td>\n",
       "      <td>inq_fi</td>\n",
       "      <td>total_cu_tl</td>\n",
       "      <td>inq_last_12m</td>\n",
       "      <td>acc_open_past_24mths</td>\n",
       "      <td>avg_cur_bal</td>\n",
       "      <td>bc_open_to_buy</td>\n",
       "      <td>bc_util</td>\n",
       "      <td>chargeoff_within_12_mths</td>\n",
       "      <td>mo_sin_old_il_acct</td>\n",
       "      <td>mo_sin_old_rev_tl_op</td>\n",
       "      <td>mo_sin_rcnt_rev_tl_op</td>\n",
       "      <td>mo_sin_rcnt_tl</td>\n",
       "      <td>mort_acc</td>\n",
       "      <td>mths_since_recent_bc</td>\n",
       "      <td>mths_since_recent_bc_dlq</td>\n",
       "      <td>mths_since_recent_inq</td>\n",
       "      <td>mths_since_recent_revol_delinq</td>\n",
       "      <td>num_accts_ever_120_pd</td>\n",
       "      <td>num_actv_bc_tl</td>\n",
       "      <td>num_actv_rev_tl</td>\n",
       "      <td>num_bc_sats</td>\n",
       "      <td>num_bc_tl</td>\n",
       "      <td>num_il_tl</td>\n",
       "      <td>num_op_rev_tl</td>\n",
       "      <td>num_rev_accts</td>\n",
       "      <td>num_rev_tl_bal_gt_0</td>\n",
       "      <td>num_sats</td>\n",
       "      <td>num_tl_120dpd_2m</td>\n",
       "      <td>num_tl_30dpd</td>\n",
       "      <td>num_tl_90g_dpd_24m</td>\n",
       "      <td>num_tl_op_past_12m</td>\n",
       "      <td>pct_tl_nvr_dlq</td>\n",
       "      <td>percent_bc_gt_75</td>\n",
       "      <td>pub_rec_bankruptcies</td>\n",
       "      <td>tax_liens</td>\n",
       "      <td>tot_hi_cred_lim</td>\n",
       "      <td>total_bal_ex_mort</td>\n",
       "      <td>total_bc_limit</td>\n",
       "      <td>total_il_high_credit_limit</td>\n",
       "    </tr>\n",
       "    <tr>\n",
       "      <th>freq</th>\n",
       "      <td>6</td>\n",
       "      <td>3</td>\n",
       "      <td>33</td>\n",
       "      <td>0</td>\n",
       "      <td>65</td>\n",
       "      <td>93</td>\n",
       "      <td>0</td>\n",
       "      <td>0</td>\n",
       "      <td>97</td>\n",
       "      <td>0</td>\n",
       "      <td>0</td>\n",
       "      <td>100</td>\n",
       "      <td>100</td>\n",
       "      <td>100</td>\n",
       "      <td>100</td>\n",
       "      <td>100</td>\n",
       "      <td>100</td>\n",
       "      <td>100</td>\n",
       "      <td>100</td>\n",
       "      <td>100</td>\n",
       "      <td>100</td>\n",
       "      <td>100</td>\n",
       "      <td>100</td>\n",
       "      <td>100</td>\n",
       "      <td>100</td>\n",
       "      <td>100</td>\n",
       "      <td>100</td>\n",
       "      <td>100</td>\n",
       "      <td>100</td>\n",
       "      <td>100</td>\n",
       "      <td>100</td>\n",
       "      <td>100</td>\n",
       "      <td>100</td>\n",
       "      <td>100</td>\n",
       "      <td>100</td>\n",
       "      <td>100</td>\n",
       "      <td>0</td>\n",
       "      <td>100</td>\n",
       "      <td>100</td>\n",
       "      <td>100</td>\n",
       "      <td>100</td>\n",
       "      <td>100</td>\n",
       "      <td>100</td>\n",
       "      <td>100</td>\n",
       "      <td>100</td>\n",
       "      <td>100</td>\n",
       "      <td>100</td>\n",
       "      <td>100</td>\n",
       "      <td>100</td>\n",
       "      <td>100</td>\n",
       "      <td>100</td>\n",
       "      <td>100</td>\n",
       "      <td>100</td>\n",
       "      <td>100</td>\n",
       "      <td>100</td>\n",
       "      <td>100</td>\n",
       "      <td>100</td>\n",
       "      <td>100</td>\n",
       "      <td>100</td>\n",
       "      <td>100</td>\n",
       "      <td>100</td>\n",
       "      <td>100</td>\n",
       "      <td>2</td>\n",
       "      <td>0</td>\n",
       "      <td>100</td>\n",
       "      <td>100</td>\n",
       "      <td>100</td>\n",
       "      <td>100</td>\n",
       "    </tr>\n",
       "  </tbody>\n",
       "</table>\n",
       "</div>"
      ],
      "text/plain": [
       "               0           1     2      3                       4   \\\n",
       "column  emp_title  emp_length  desc  title  mths_since_last_delinq   \n",
       "freq            6           3    33      0                      65   \n",
       "\n",
       "                            5           6             7             8   \\\n",
       "column  mths_since_last_record  revol_util  last_pymnt_d  next_pymnt_d   \n",
       "freq                        93           0             0            97   \n",
       "\n",
       "                        9                           10  \\\n",
       "column  last_credit_pull_d  collections_12_mths_ex_med   \n",
       "freq                     0                           0   \n",
       "\n",
       "                                 11                12         13  \\\n",
       "column  mths_since_last_major_derog  annual_inc_joint  dti_joint   \n",
       "freq                            100               100        100   \n",
       "\n",
       "                               14            15           16           17  \\\n",
       "column  verification_status_joint  tot_coll_amt  tot_cur_bal  open_acc_6m   \n",
       "freq                          100           100          100          100   \n",
       "\n",
       "                18           19           20                  21  \\\n",
       "column  open_il_6m  open_il_12m  open_il_24m  mths_since_rcnt_il   \n",
       "freq           100          100          100                 100   \n",
       "\n",
       "                  22       23           24           25          26        27  \\\n",
       "column  total_bal_il  il_util  open_rv_12m  open_rv_24m  max_bal_bc  all_util   \n",
       "freq             100      100          100          100         100       100   \n",
       "\n",
       "                      28      29           30            31  \\\n",
       "column  total_rev_hi_lim  inq_fi  total_cu_tl  inq_last_12m   \n",
       "freq                 100     100          100           100   \n",
       "\n",
       "                          32           33              34       35  \\\n",
       "column  acc_open_past_24mths  avg_cur_bal  bc_open_to_buy  bc_util   \n",
       "freq                     100          100             100      100   \n",
       "\n",
       "                              36                  37                    38  \\\n",
       "column  chargeoff_within_12_mths  mo_sin_old_il_acct  mo_sin_old_rev_tl_op   \n",
       "freq                           0                 100                   100   \n",
       "\n",
       "                           39              40        41                    42  \\\n",
       "column  mo_sin_rcnt_rev_tl_op  mo_sin_rcnt_tl  mort_acc  mths_since_recent_bc   \n",
       "freq                      100             100       100                   100   \n",
       "\n",
       "                              43                     44  \\\n",
       "column  mths_since_recent_bc_dlq  mths_since_recent_inq   \n",
       "freq                         100                    100   \n",
       "\n",
       "                                    45                     46              47  \\\n",
       "column  mths_since_recent_revol_delinq  num_accts_ever_120_pd  num_actv_bc_tl   \n",
       "freq                               100                    100             100   \n",
       "\n",
       "                     48           49         50         51             52  \\\n",
       "column  num_actv_rev_tl  num_bc_sats  num_bc_tl  num_il_tl  num_op_rev_tl   \n",
       "freq                100          100        100        100            100   \n",
       "\n",
       "                   53                   54        55                56  \\\n",
       "column  num_rev_accts  num_rev_tl_bal_gt_0  num_sats  num_tl_120dpd_2m   \n",
       "freq              100                  100       100               100   \n",
       "\n",
       "                  57                  58                  59              60  \\\n",
       "column  num_tl_30dpd  num_tl_90g_dpd_24m  num_tl_op_past_12m  pct_tl_nvr_dlq   \n",
       "freq             100                 100                 100             100   \n",
       "\n",
       "                      61                    62         63               64  \\\n",
       "column  percent_bc_gt_75  pub_rec_bankruptcies  tax_liens  tot_hi_cred_lim   \n",
       "freq                 100                     2          0              100   \n",
       "\n",
       "                       65              66                          67  \n",
       "column  total_bal_ex_mort  total_bc_limit  total_il_high_credit_limit  \n",
       "freq                  100             100                         100  "
      ]
     },
     "execution_count": 876,
     "metadata": {},
     "output_type": "execute_result"
    }
   ],
   "source": [
    "nulls.columns=['column','freq']\n",
    "nulls.transpose()"
   ]
  },
  {
   "cell_type": "code",
   "execution_count": 877,
   "id": "0f405be0-b792-4c4b-b7fd-bc1b41e21bcc",
   "metadata": {},
   "outputs": [
    {
     "data": {
      "image/png": "[encoded data removed]",
      "text/plain": [
       "<Figure size 2000x400 with 1 Axes>"
      ]
     },
     "metadata": {},
     "output_type": "display_data"
    }
   ],
   "source": [
    "nulls.sort_values(by='freq',ascending=False,inplace=True)\n",
    "nulls\n",
    "fig, ax = plt.subplots(figsize=(20, 4))\n",
    "sns.barplot(data=nulls,x='column',y='freq', ax=ax)\n",
    "plt.xticks(rotation=90)\n",
    "plt.show()"
   ]
  },
  {
   "cell_type": "markdown",
   "id": "8f4add31-2e66-4080-b723-713271f27de5",
   "metadata": {},
   "source": [
    "Most of the columns has 100% null values and some seems to have nulls greater than 25% , these columns needs to be removed."
   ]
  },
  {
   "cell_type": "markdown",
   "id": "fff767b0-2c48-40d8-b6dc-d95543142c11",
   "metadata": {},
   "source": [
    "### Step 1: Removing Columns which are completely Null\n",
    "\n",
    "#### Removing the Columns that are completely Null as they wont provide any information about customer's loan processing"
   ]
  },
  {
   "cell_type": "code",
   "execution_count": 878,
   "id": "3a2ac094-ff63-4fb8-adf6-6d39b18731e9",
   "metadata": {
    "tags": []
   },
   "outputs": [],
   "source": [
    "#Removing Columns that are completely null\n",
    "\n",
    "raw0=raw_0.dropna(how='all',axis=1) "
   ]
  },
  {
   "cell_type": "code",
   "execution_count": 879,
   "id": "cca6ac71-3f2b-4b3d-be01-661f9c4254ca",
   "metadata": {},
   "outputs": [
    {
     "name": "stdout",
     "output_type": "stream",
     "text": [
      "\u001b[1m\u001b[4mRemoved below columns that are completely Null which makes these columns insignifcant for Analysis:\n",
      "\n",
      "\u001b[0mmths_since_last_major_derog , annual_inc_joint , dti_joint , verification_status_joint , tot_coll_amt , tot_cur_bal , open_acc_6m , open_il_6m , open_il_12m , open_il_24m , mths_since_rcnt_il , total_bal_il , il_util , open_rv_12m , open_rv_24m , max_bal_bc , all_util , total_rev_hi_lim , inq_fi , total_cu_tl , inq_last_12m , acc_open_past_24mths , avg_cur_bal , bc_open_to_buy , bc_util , mo_sin_old_il_acct , mo_sin_old_rev_tl_op , mo_sin_rcnt_rev_tl_op , mo_sin_rcnt_tl , mort_acc , mths_since_recent_bc , mths_since_recent_bc_dlq , mths_since_recent_inq , mths_since_recent_revol_delinq , num_accts_ever_120_pd , num_actv_bc_tl , num_actv_rev_tl , num_bc_sats , num_bc_tl , num_il_tl , num_op_rev_tl , num_rev_accts , num_rev_tl_bal_gt_0 , num_sats , num_tl_120dpd_2m , num_tl_30dpd , num_tl_90g_dpd_24m , num_tl_op_past_12m , pct_tl_nvr_dlq , percent_bc_gt_75 , tot_hi_cred_lim , total_bal_ex_mort , total_bc_limit , total_il_high_credit_limit , "
     ]
    }
   ],
   "source": [
    "#Displaying Columns that are completly null\n",
    "\n",
    "print ('\\033[1m' + '\\033[4m'+\"Removed below columns that are completely Null which makes these columns insignifcant for Analysis:\\n\\n\" +'\\033[0m', end=\"\") \n",
    "for col in raw:\n",
    "    if col not in raw0:\n",
    "        print(end = col +\" , \" )"
   ]
  },
  {
   "cell_type": "markdown",
   "id": "c4e87590-cd58-499b-9259-5654e62d26d9",
   "metadata": {},
   "source": [
    "\n",
    "\n",
    "\n",
    "### Step 2: Removing Columns which has null values greater than 25%"
   ]
  },
  {
   "cell_type": "code",
   "execution_count": 880,
   "id": "462099c0-4f82-4a31-9206-83334e06e386",
   "metadata": {},
   "outputs": [
    {
     "data": {
      "text/html": [
       "<div>\n",
       "<style scoped>\n",
       "    .dataframe tbody tr th:only-of-type {\n",
       "        vertical-align: middle;\n",
       "    }\n",
       "\n",
       "    .dataframe tbody tr th {\n",
       "        vertical-align: top;\n",
       "    }\n",
       "\n",
       "    .dataframe thead th {\n",
       "        text-align: right;\n",
       "    }\n",
       "</style>\n",
       "<table border=\"1\" class=\"dataframe\">\n",
       "  <thead>\n",
       "    <tr style=\"text-align: right;\">\n",
       "      <th></th>\n",
       "      <th>column</th>\n",
       "      <th>freq</th>\n",
       "    </tr>\n",
       "  </thead>\n",
       "  <tbody>\n",
       "    <tr>\n",
       "      <th>0</th>\n",
       "      <td>emp_title</td>\n",
       "      <td>6.19</td>\n",
       "    </tr>\n",
       "    <tr>\n",
       "      <th>1</th>\n",
       "      <td>emp_length</td>\n",
       "      <td>2.71</td>\n",
       "    </tr>\n",
       "    <tr>\n",
       "      <th>2</th>\n",
       "      <td>desc</td>\n",
       "      <td>32.58</td>\n",
       "    </tr>\n",
       "    <tr>\n",
       "      <th>3</th>\n",
       "      <td>title</td>\n",
       "      <td>0.03</td>\n",
       "    </tr>\n",
       "    <tr>\n",
       "      <th>4</th>\n",
       "      <td>mths_since_last_delinq</td>\n",
       "      <td>64.66</td>\n",
       "    </tr>\n",
       "    <tr>\n",
       "      <th>5</th>\n",
       "      <td>mths_since_last_record</td>\n",
       "      <td>92.99</td>\n",
       "    </tr>\n",
       "    <tr>\n",
       "      <th>6</th>\n",
       "      <td>revol_util</td>\n",
       "      <td>0.13</td>\n",
       "    </tr>\n",
       "    <tr>\n",
       "      <th>7</th>\n",
       "      <td>last_pymnt_d</td>\n",
       "      <td>0.18</td>\n",
       "    </tr>\n",
       "    <tr>\n",
       "      <th>8</th>\n",
       "      <td>next_pymnt_d</td>\n",
       "      <td>97.13</td>\n",
       "    </tr>\n",
       "    <tr>\n",
       "      <th>9</th>\n",
       "      <td>last_credit_pull_d</td>\n",
       "      <td>0.01</td>\n",
       "    </tr>\n",
       "    <tr>\n",
       "      <th>10</th>\n",
       "      <td>collections_12_mths_ex_med</td>\n",
       "      <td>0.14</td>\n",
       "    </tr>\n",
       "    <tr>\n",
       "      <th>11</th>\n",
       "      <td>chargeoff_within_12_mths</td>\n",
       "      <td>0.14</td>\n",
       "    </tr>\n",
       "    <tr>\n",
       "      <th>12</th>\n",
       "      <td>pub_rec_bankruptcies</td>\n",
       "      <td>1.75</td>\n",
       "    </tr>\n",
       "    <tr>\n",
       "      <th>13</th>\n",
       "      <td>tax_liens</td>\n",
       "      <td>0.1</td>\n",
       "    </tr>\n",
       "  </tbody>\n",
       "</table>\n",
       "</div>"
      ],
      "text/plain": [
       "                        column   freq\n",
       "0                    emp_title   6.19\n",
       "1                   emp_length   2.71\n",
       "2                         desc  32.58\n",
       "3                        title   0.03\n",
       "4       mths_since_last_delinq  64.66\n",
       "5       mths_since_last_record  92.99\n",
       "6                   revol_util   0.13\n",
       "7                 last_pymnt_d   0.18\n",
       "8                 next_pymnt_d  97.13\n",
       "9           last_credit_pull_d   0.01\n",
       "10  collections_12_mths_ex_med   0.14\n",
       "11    chargeoff_within_12_mths   0.14\n",
       "12        pub_rec_bankruptcies   1.75\n",
       "13                   tax_liens    0.1"
      ]
     },
     "execution_count": 880,
     "metadata": {},
     "output_type": "execute_result"
    }
   ],
   "source": [
    "# Checking the fill rate of the columns to identify records with maximum nulls.\n",
    "# In general we assume that records with nulls greater than 25% will not be significant for the analysis\n",
    "\n",
    "temp2=pd.DataFrame([[ col for col in raw0 if raw0[col].isnull().sum() > 0 ],\n",
    "                    [ round(raw0[col].isnull().sum()*100/len(raw0),2) for col in raw0 if raw0[col].isnull().sum() > 0 ]] ).transpose()\n",
    "temp2.columns=['column','freq']\n",
    "temp2"
   ]
  },
  {
   "cell_type": "code",
   "execution_count": 881,
   "id": "28a9f01f-4cb8-461c-927f-ffed6da8f771",
   "metadata": {},
   "outputs": [],
   "source": [
    "## Removing Columns with null values greater than 25 %\n",
    "raw1=raw0[[ col for col in raw0 if (raw0[col].count()/len(raw0)) >=0.25 ]] "
   ]
  },
  {
   "cell_type": "code",
   "execution_count": 882,
   "id": "1dbf90bc-35d6-46d1-92a6-739fab3876ec",
   "metadata": {},
   "outputs": [
    {
     "name": "stdout",
     "output_type": "stream",
     "text": [
      "\u001b[1m\u001b[4mRemoved below Columns from Loan.csv, Since they have null values greater than 25%:\u001b[0m\n",
      "* mths_since_last_record\n",
      "* next_pymnt_d\n"
     ]
    }
   ],
   "source": [
    "print ('\\033[1m' +'\\033[4m'+\"Removed below Columns from Loan.csv, Since they have null values greater than 25%:\"+'\\033[0m')\n",
    "for col in raw0:\n",
    "    if col not in raw1:\n",
    "        print('* ' + col )"
   ]
  },
  {
   "cell_type": "markdown",
   "id": "911b6b16-6403-4d41-8b5d-0e38d79b5d8d",
   "metadata": {},
   "source": [
    "### Step 3: Removing Columns that would not have any influence over the Analysis of given problem statement\n",
    "\n",
    "##### Removing the columns that defines 'Customer behaviour' after loan disbursement, which can't be used as a factor to determine the risk of providing loan to a customer"
   ]
  },
  {
   "cell_type": "code",
   "execution_count": 883,
   "id": "18635b7f-a304-4c36-8ebc-20e656268d9b",
   "metadata": {},
   "outputs": [],
   "source": [
    "#Dropping insignificant columns\n",
    "\n",
    "raw2=raw1.drop([ 'delinq_2yrs','earliest_cr_line','inq_last_6mths','open_acc','pub_rec',\n",
    "                 'out_prncp_inv','total_pymnt','total_pymnt_inv','total_rec_prncp',\n",
    "                 'total_rec_int','total_rec_late_fee','recoveries','collection_recovery_fee',\n",
    "                 'last_pymnt_d','last_pymnt_amnt','last_credit_pull_d','application_type',\n",
    "                 'revol_bal','revol_util','total_acc','out_prncp'], axis=1)\n"
   ]
  },
  {
   "cell_type": "code",
   "execution_count": 884,
   "id": "7804ba17-4204-4d5b-a053-01e446f2d1aa",
   "metadata": {},
   "outputs": [
    {
     "name": "stdout",
     "output_type": "stream",
     "text": [
      "\u001b[1m\u001b[4mThe below columns were removed as they are insignificant for the analysis of given problem statement:\n",
      "\n",
      "\u001b[0mdelinq_2yrs , earliest_cr_line , inq_last_6mths , open_acc , pub_rec , revol_bal , revol_util , total_acc , out_prncp , out_prncp_inv , total_pymnt , total_pymnt_inv , total_rec_prncp , total_rec_int , total_rec_late_fee , recoveries , collection_recovery_fee , last_pymnt_d , last_pymnt_amnt , last_credit_pull_d , application_type , "
     ]
    }
   ],
   "source": [
    "print ('\\033[1m'+'\\033[4m'+\"The below columns were removed as they are insignificant for the analysis of given problem statement:\\n\\n\"+'\\033[0m' , end=\"\") \n",
    "for col in raw1:\n",
    "    if col not in raw2:\n",
    "        print(end = col +\" , \" )"
   ]
  },
  {
   "cell_type": "code",
   "execution_count": 885,
   "id": "891342e0-28b6-4eee-b302-d397f8fb380a",
   "metadata": {},
   "outputs": [
    {
     "data": {
      "text/plain": [
       "(39717, 34)"
      ]
     },
     "execution_count": 885,
     "metadata": {},
     "output_type": "execute_result"
    }
   ],
   "source": [
    "#Checking the number of Columns after cleansing the data\n",
    "\n",
    "raw2.shape"
   ]
  },
  {
   "cell_type": "code",
   "execution_count": 886,
   "id": "12f0be6f-460d-4ab6-82f9-e28a429589d2",
   "metadata": {},
   "outputs": [
    {
     "data": {
      "text/html": [
       "<div>\n",
       "<style scoped>\n",
       "    .dataframe tbody tr th:only-of-type {\n",
       "        vertical-align: middle;\n",
       "    }\n",
       "\n",
       "    .dataframe tbody tr th {\n",
       "        vertical-align: top;\n",
       "    }\n",
       "\n",
       "    .dataframe thead th {\n",
       "        text-align: right;\n",
       "    }\n",
       "</style>\n",
       "<table border=\"1\" class=\"dataframe\">\n",
       "  <thead>\n",
       "    <tr style=\"text-align: right;\">\n",
       "      <th></th>\n",
       "      <th>id</th>\n",
       "      <th>member_id</th>\n",
       "      <th>loan_amnt</th>\n",
       "      <th>funded_amnt</th>\n",
       "      <th>funded_amnt_inv</th>\n",
       "      <th>term</th>\n",
       "      <th>int_rate</th>\n",
       "      <th>installment</th>\n",
       "      <th>grade</th>\n",
       "      <th>sub_grade</th>\n",
       "      <th>emp_title</th>\n",
       "      <th>emp_length</th>\n",
       "      <th>home_ownership</th>\n",
       "      <th>annual_inc</th>\n",
       "      <th>verification_status</th>\n",
       "      <th>issue_d</th>\n",
       "      <th>loan_status</th>\n",
       "      <th>pymnt_plan</th>\n",
       "      <th>url</th>\n",
       "      <th>desc</th>\n",
       "      <th>purpose</th>\n",
       "      <th>title</th>\n",
       "      <th>zip_code</th>\n",
       "      <th>addr_state</th>\n",
       "      <th>dti</th>\n",
       "      <th>mths_since_last_delinq</th>\n",
       "      <th>initial_list_status</th>\n",
       "      <th>collections_12_mths_ex_med</th>\n",
       "      <th>policy_code</th>\n",
       "      <th>acc_now_delinq</th>\n",
       "      <th>chargeoff_within_12_mths</th>\n",
       "      <th>delinq_amnt</th>\n",
       "      <th>pub_rec_bankruptcies</th>\n",
       "      <th>tax_liens</th>\n",
       "    </tr>\n",
       "  </thead>\n",
       "  <tbody>\n",
       "    <tr>\n",
       "      <th>0</th>\n",
       "      <td>1077501</td>\n",
       "      <td>1296599</td>\n",
       "      <td>5000</td>\n",
       "      <td>5000</td>\n",
       "      <td>4975.0</td>\n",
       "      <td>36 months</td>\n",
       "      <td>10.65%</td>\n",
       "      <td>162.87</td>\n",
       "      <td>B</td>\n",
       "      <td>B2</td>\n",
       "      <td>NaN</td>\n",
       "      <td>10+ years</td>\n",
       "      <td>RENT</td>\n",
       "      <td>24000.0</td>\n",
       "      <td>Verified</td>\n",
       "      <td>Dec-11</td>\n",
       "      <td>Fully Paid</td>\n",
       "      <td>n</td>\n",
       "      <td>https://lendingclub.com/browse/loanDetail.acti...</td>\n",
       "      <td>Borrower added on 12/22/11 &gt; I need to upgra...</td>\n",
       "      <td>credit_card</td>\n",
       "      <td>Computer</td>\n",
       "      <td>860xx</td>\n",
       "      <td>AZ</td>\n",
       "      <td>27.65</td>\n",
       "      <td>NaN</td>\n",
       "      <td>f</td>\n",
       "      <td>0.0</td>\n",
       "      <td>1</td>\n",
       "      <td>0</td>\n",
       "      <td>0.0</td>\n",
       "      <td>0</td>\n",
       "      <td>0.0</td>\n",
       "      <td>0.0</td>\n",
       "    </tr>\n",
       "    <tr>\n",
       "      <th>1</th>\n",
       "      <td>1077430</td>\n",
       "      <td>1314167</td>\n",
       "      <td>2500</td>\n",
       "      <td>2500</td>\n",
       "      <td>2500.0</td>\n",
       "      <td>60 months</td>\n",
       "      <td>15.27%</td>\n",
       "      <td>59.83</td>\n",
       "      <td>C</td>\n",
       "      <td>C4</td>\n",
       "      <td>Ryder</td>\n",
       "      <td>&lt; 1 year</td>\n",
       "      <td>RENT</td>\n",
       "      <td>30000.0</td>\n",
       "      <td>Source Verified</td>\n",
       "      <td>Dec-11</td>\n",
       "      <td>Charged Off</td>\n",
       "      <td>n</td>\n",
       "      <td>https://lendingclub.com/browse/loanDetail.acti...</td>\n",
       "      <td>Borrower added on 12/22/11 &gt; I plan to use t...</td>\n",
       "      <td>car</td>\n",
       "      <td>bike</td>\n",
       "      <td>309xx</td>\n",
       "      <td>GA</td>\n",
       "      <td>1.00</td>\n",
       "      <td>NaN</td>\n",
       "      <td>f</td>\n",
       "      <td>0.0</td>\n",
       "      <td>1</td>\n",
       "      <td>0</td>\n",
       "      <td>0.0</td>\n",
       "      <td>0</td>\n",
       "      <td>0.0</td>\n",
       "      <td>0.0</td>\n",
       "    </tr>\n",
       "    <tr>\n",
       "      <th>2</th>\n",
       "      <td>1077175</td>\n",
       "      <td>1313524</td>\n",
       "      <td>2400</td>\n",
       "      <td>2400</td>\n",
       "      <td>2400.0</td>\n",
       "      <td>36 months</td>\n",
       "      <td>15.96%</td>\n",
       "      <td>84.33</td>\n",
       "      <td>C</td>\n",
       "      <td>C5</td>\n",
       "      <td>NaN</td>\n",
       "      <td>10+ years</td>\n",
       "      <td>RENT</td>\n",
       "      <td>12252.0</td>\n",
       "      <td>Not Verified</td>\n",
       "      <td>Dec-11</td>\n",
       "      <td>Fully Paid</td>\n",
       "      <td>n</td>\n",
       "      <td>https://lendingclub.com/browse/loanDetail.acti...</td>\n",
       "      <td>NaN</td>\n",
       "      <td>small_business</td>\n",
       "      <td>real estate business</td>\n",
       "      <td>606xx</td>\n",
       "      <td>IL</td>\n",
       "      <td>8.72</td>\n",
       "      <td>NaN</td>\n",
       "      <td>f</td>\n",
       "      <td>0.0</td>\n",
       "      <td>1</td>\n",
       "      <td>0</td>\n",
       "      <td>0.0</td>\n",
       "      <td>0</td>\n",
       "      <td>0.0</td>\n",
       "      <td>0.0</td>\n",
       "    </tr>\n",
       "    <tr>\n",
       "      <th>3</th>\n",
       "      <td>1076863</td>\n",
       "      <td>1277178</td>\n",
       "      <td>10000</td>\n",
       "      <td>10000</td>\n",
       "      <td>10000.0</td>\n",
       "      <td>36 months</td>\n",
       "      <td>13.49%</td>\n",
       "      <td>339.31</td>\n",
       "      <td>C</td>\n",
       "      <td>C1</td>\n",
       "      <td>AIR RESOURCES BOARD</td>\n",
       "      <td>10+ years</td>\n",
       "      <td>RENT</td>\n",
       "      <td>49200.0</td>\n",
       "      <td>Source Verified</td>\n",
       "      <td>Dec-11</td>\n",
       "      <td>Fully Paid</td>\n",
       "      <td>n</td>\n",
       "      <td>https://lendingclub.com/browse/loanDetail.acti...</td>\n",
       "      <td>Borrower added on 12/21/11 &gt; to pay for prop...</td>\n",
       "      <td>other</td>\n",
       "      <td>personel</td>\n",
       "      <td>917xx</td>\n",
       "      <td>CA</td>\n",
       "      <td>20.00</td>\n",
       "      <td>35.0</td>\n",
       "      <td>f</td>\n",
       "      <td>0.0</td>\n",
       "      <td>1</td>\n",
       "      <td>0</td>\n",
       "      <td>0.0</td>\n",
       "      <td>0</td>\n",
       "      <td>0.0</td>\n",
       "      <td>0.0</td>\n",
       "    </tr>\n",
       "    <tr>\n",
       "      <th>4</th>\n",
       "      <td>1075358</td>\n",
       "      <td>1311748</td>\n",
       "      <td>3000</td>\n",
       "      <td>3000</td>\n",
       "      <td>3000.0</td>\n",
       "      <td>60 months</td>\n",
       "      <td>12.69%</td>\n",
       "      <td>67.79</td>\n",
       "      <td>B</td>\n",
       "      <td>B5</td>\n",
       "      <td>University Medical Group</td>\n",
       "      <td>1 year</td>\n",
       "      <td>RENT</td>\n",
       "      <td>80000.0</td>\n",
       "      <td>Source Verified</td>\n",
       "      <td>Dec-11</td>\n",
       "      <td>Current</td>\n",
       "      <td>n</td>\n",
       "      <td>https://lendingclub.com/browse/loanDetail.acti...</td>\n",
       "      <td>Borrower added on 12/21/11 &gt; I plan on combi...</td>\n",
       "      <td>other</td>\n",
       "      <td>Personal</td>\n",
       "      <td>972xx</td>\n",
       "      <td>OR</td>\n",
       "      <td>17.94</td>\n",
       "      <td>38.0</td>\n",
       "      <td>f</td>\n",
       "      <td>0.0</td>\n",
       "      <td>1</td>\n",
       "      <td>0</td>\n",
       "      <td>0.0</td>\n",
       "      <td>0</td>\n",
       "      <td>0.0</td>\n",
       "      <td>0.0</td>\n",
       "    </tr>\n",
       "  </tbody>\n",
       "</table>\n",
       "</div>"
      ],
      "text/plain": [
       "        id  member_id  loan_amnt  funded_amnt  funded_amnt_inv        term  \\\n",
       "0  1077501    1296599       5000         5000           4975.0   36 months   \n",
       "1  1077430    1314167       2500         2500           2500.0   60 months   \n",
       "2  1077175    1313524       2400         2400           2400.0   36 months   \n",
       "3  1076863    1277178      10000        10000          10000.0   36 months   \n",
       "4  1075358    1311748       3000         3000           3000.0   60 months   \n",
       "\n",
       "  int_rate  installment grade sub_grade                 emp_title emp_length  \\\n",
       "0   10.65%       162.87     B        B2                       NaN  10+ years   \n",
       "1   15.27%        59.83     C        C4                     Ryder   < 1 year   \n",
       "2   15.96%        84.33     C        C5                       NaN  10+ years   \n",
       "3   13.49%       339.31     C        C1       AIR RESOURCES BOARD  10+ years   \n",
       "4   12.69%        67.79     B        B5  University Medical Group     1 year   \n",
       "\n",
       "  home_ownership  annual_inc verification_status issue_d  loan_status  \\\n",
       "0           RENT     24000.0            Verified  Dec-11   Fully Paid   \n",
       "1           RENT     30000.0     Source Verified  Dec-11  Charged Off   \n",
       "2           RENT     12252.0        Not Verified  Dec-11   Fully Paid   \n",
       "3           RENT     49200.0     Source Verified  Dec-11   Fully Paid   \n",
       "4           RENT     80000.0     Source Verified  Dec-11      Current   \n",
       "\n",
       "  pymnt_plan                                                url  \\\n",
       "0          n  https://lendingclub.com/browse/loanDetail.acti...   \n",
       "1          n  https://lendingclub.com/browse/loanDetail.acti...   \n",
       "2          n  https://lendingclub.com/browse/loanDetail.acti...   \n",
       "3          n  https://lendingclub.com/browse/loanDetail.acti...   \n",
       "4          n  https://lendingclub.com/browse/loanDetail.acti...   \n",
       "\n",
       "                                                desc         purpose  \\\n",
       "0    Borrower added on 12/22/11 > I need to upgra...     credit_card   \n",
       "1    Borrower added on 12/22/11 > I plan to use t...             car   \n",
       "2                                                NaN  small_business   \n",
       "3    Borrower added on 12/21/11 > to pay for prop...           other   \n",
       "4    Borrower added on 12/21/11 > I plan on combi...           other   \n",
       "\n",
       "                  title zip_code addr_state    dti  mths_since_last_delinq  \\\n",
       "0              Computer    860xx         AZ  27.65                     NaN   \n",
       "1                  bike    309xx         GA   1.00                     NaN   \n",
       "2  real estate business    606xx         IL   8.72                     NaN   \n",
       "3              personel    917xx         CA  20.00                    35.0   \n",
       "4              Personal    972xx         OR  17.94                    38.0   \n",
       "\n",
       "  initial_list_status  collections_12_mths_ex_med  policy_code  \\\n",
       "0                   f                         0.0            1   \n",
       "1                   f                         0.0            1   \n",
       "2                   f                         0.0            1   \n",
       "3                   f                         0.0            1   \n",
       "4                   f                         0.0            1   \n",
       "\n",
       "   acc_now_delinq  chargeoff_within_12_mths  delinq_amnt  \\\n",
       "0               0                       0.0            0   \n",
       "1               0                       0.0            0   \n",
       "2               0                       0.0            0   \n",
       "3               0                       0.0            0   \n",
       "4               0                       0.0            0   \n",
       "\n",
       "   pub_rec_bankruptcies  tax_liens  \n",
       "0                   0.0        0.0  \n",
       "1                   0.0        0.0  \n",
       "2                   0.0        0.0  \n",
       "3                   0.0        0.0  \n",
       "4                   0.0        0.0  "
      ]
     },
     "execution_count": 886,
     "metadata": {},
     "output_type": "execute_result"
    }
   ],
   "source": [
    "raw2.head()"
   ]
  },
  {
   "cell_type": "markdown",
   "id": "b70c4870-30a2-4aad-b0e6-eb77a41997f5",
   "metadata": {},
   "source": [
    "### Step 4 : Identifying columns whose values will not produce any outcome"
   ]
  },
  {
   "cell_type": "code",
   "execution_count": 887,
   "id": "88df0ea0-fb3a-482f-90b6-35f7e568c281",
   "metadata": {},
   "outputs": [
    {
     "data": {
      "text/html": [
       "<div>\n",
       "<style scoped>\n",
       "    .dataframe tbody tr th:only-of-type {\n",
       "        vertical-align: middle;\n",
       "    }\n",
       "\n",
       "    .dataframe tbody tr th {\n",
       "        vertical-align: top;\n",
       "    }\n",
       "\n",
       "    .dataframe thead th {\n",
       "        text-align: right;\n",
       "    }\n",
       "</style>\n",
       "<table border=\"1\" class=\"dataframe\">\n",
       "  <thead>\n",
       "    <tr style=\"text-align: right;\">\n",
       "      <th></th>\n",
       "      <th>id</th>\n",
       "      <th>member_id</th>\n",
       "      <th>loan_amnt</th>\n",
       "      <th>funded_amnt</th>\n",
       "      <th>funded_amnt_inv</th>\n",
       "      <th>term</th>\n",
       "      <th>int_rate</th>\n",
       "      <th>installment</th>\n",
       "      <th>grade</th>\n",
       "      <th>sub_grade</th>\n",
       "      <th>emp_title</th>\n",
       "      <th>emp_length</th>\n",
       "      <th>home_ownership</th>\n",
       "      <th>annual_inc</th>\n",
       "      <th>verification_status</th>\n",
       "      <th>issue_d</th>\n",
       "      <th>loan_status</th>\n",
       "      <th>pymnt_plan</th>\n",
       "      <th>url</th>\n",
       "      <th>desc</th>\n",
       "      <th>purpose</th>\n",
       "      <th>title</th>\n",
       "      <th>zip_code</th>\n",
       "      <th>addr_state</th>\n",
       "      <th>dti</th>\n",
       "      <th>mths_since_last_delinq</th>\n",
       "      <th>initial_list_status</th>\n",
       "      <th>collections_12_mths_ex_med</th>\n",
       "      <th>policy_code</th>\n",
       "      <th>acc_now_delinq</th>\n",
       "      <th>chargeoff_within_12_mths</th>\n",
       "      <th>delinq_amnt</th>\n",
       "      <th>pub_rec_bankruptcies</th>\n",
       "      <th>tax_liens</th>\n",
       "    </tr>\n",
       "  </thead>\n",
       "  <tbody>\n",
       "    <tr>\n",
       "      <th>0</th>\n",
       "      <td>1077501</td>\n",
       "      <td>1296599</td>\n",
       "      <td>5000</td>\n",
       "      <td>5000</td>\n",
       "      <td>4975.0</td>\n",
       "      <td>36 months</td>\n",
       "      <td>10.65%</td>\n",
       "      <td>162.87</td>\n",
       "      <td>B</td>\n",
       "      <td>B2</td>\n",
       "      <td>NaN</td>\n",
       "      <td>10+ years</td>\n",
       "      <td>RENT</td>\n",
       "      <td>24000.0</td>\n",
       "      <td>Verified</td>\n",
       "      <td>Dec-11</td>\n",
       "      <td>Fully Paid</td>\n",
       "      <td>n</td>\n",
       "      <td>https://lendingclub.com/browse/loanDetail.acti...</td>\n",
       "      <td>Borrower added on 12/22/11 &gt; I need to upgra...</td>\n",
       "      <td>credit_card</td>\n",
       "      <td>Computer</td>\n",
       "      <td>860xx</td>\n",
       "      <td>AZ</td>\n",
       "      <td>27.65</td>\n",
       "      <td>NaN</td>\n",
       "      <td>f</td>\n",
       "      <td>0.0</td>\n",
       "      <td>1</td>\n",
       "      <td>0</td>\n",
       "      <td>0.0</td>\n",
       "      <td>0</td>\n",
       "      <td>0.0</td>\n",
       "      <td>0.0</td>\n",
       "    </tr>\n",
       "    <tr>\n",
       "      <th>1</th>\n",
       "      <td>1077430</td>\n",
       "      <td>1314167</td>\n",
       "      <td>2500</td>\n",
       "      <td>2500</td>\n",
       "      <td>2500.0</td>\n",
       "      <td>60 months</td>\n",
       "      <td>15.27%</td>\n",
       "      <td>59.83</td>\n",
       "      <td>C</td>\n",
       "      <td>C4</td>\n",
       "      <td>Ryder</td>\n",
       "      <td>&lt; 1 year</td>\n",
       "      <td>RENT</td>\n",
       "      <td>30000.0</td>\n",
       "      <td>Source Verified</td>\n",
       "      <td>Dec-11</td>\n",
       "      <td>Charged Off</td>\n",
       "      <td>n</td>\n",
       "      <td>https://lendingclub.com/browse/loanDetail.acti...</td>\n",
       "      <td>Borrower added on 12/22/11 &gt; I plan to use t...</td>\n",
       "      <td>car</td>\n",
       "      <td>bike</td>\n",
       "      <td>309xx</td>\n",
       "      <td>GA</td>\n",
       "      <td>1.00</td>\n",
       "      <td>NaN</td>\n",
       "      <td>f</td>\n",
       "      <td>0.0</td>\n",
       "      <td>1</td>\n",
       "      <td>0</td>\n",
       "      <td>0.0</td>\n",
       "      <td>0</td>\n",
       "      <td>0.0</td>\n",
       "      <td>0.0</td>\n",
       "    </tr>\n",
       "    <tr>\n",
       "      <th>2</th>\n",
       "      <td>1077175</td>\n",
       "      <td>1313524</td>\n",
       "      <td>2400</td>\n",
       "      <td>2400</td>\n",
       "      <td>2400.0</td>\n",
       "      <td>36 months</td>\n",
       "      <td>15.96%</td>\n",
       "      <td>84.33</td>\n",
       "      <td>C</td>\n",
       "      <td>C5</td>\n",
       "      <td>NaN</td>\n",
       "      <td>10+ years</td>\n",
       "      <td>RENT</td>\n",
       "      <td>12252.0</td>\n",
       "      <td>Not Verified</td>\n",
       "      <td>Dec-11</td>\n",
       "      <td>Fully Paid</td>\n",
       "      <td>n</td>\n",
       "      <td>https://lendingclub.com/browse/loanDetail.acti...</td>\n",
       "      <td>NaN</td>\n",
       "      <td>small_business</td>\n",
       "      <td>real estate business</td>\n",
       "      <td>606xx</td>\n",
       "      <td>IL</td>\n",
       "      <td>8.72</td>\n",
       "      <td>NaN</td>\n",
       "      <td>f</td>\n",
       "      <td>0.0</td>\n",
       "      <td>1</td>\n",
       "      <td>0</td>\n",
       "      <td>0.0</td>\n",
       "      <td>0</td>\n",
       "      <td>0.0</td>\n",
       "      <td>0.0</td>\n",
       "    </tr>\n",
       "    <tr>\n",
       "      <th>3</th>\n",
       "      <td>1076863</td>\n",
       "      <td>1277178</td>\n",
       "      <td>10000</td>\n",
       "      <td>10000</td>\n",
       "      <td>10000.0</td>\n",
       "      <td>36 months</td>\n",
       "      <td>13.49%</td>\n",
       "      <td>339.31</td>\n",
       "      <td>C</td>\n",
       "      <td>C1</td>\n",
       "      <td>AIR RESOURCES BOARD</td>\n",
       "      <td>10+ years</td>\n",
       "      <td>RENT</td>\n",
       "      <td>49200.0</td>\n",
       "      <td>Source Verified</td>\n",
       "      <td>Dec-11</td>\n",
       "      <td>Fully Paid</td>\n",
       "      <td>n</td>\n",
       "      <td>https://lendingclub.com/browse/loanDetail.acti...</td>\n",
       "      <td>Borrower added on 12/21/11 &gt; to pay for prop...</td>\n",
       "      <td>other</td>\n",
       "      <td>personel</td>\n",
       "      <td>917xx</td>\n",
       "      <td>CA</td>\n",
       "      <td>20.00</td>\n",
       "      <td>35.0</td>\n",
       "      <td>f</td>\n",
       "      <td>0.0</td>\n",
       "      <td>1</td>\n",
       "      <td>0</td>\n",
       "      <td>0.0</td>\n",
       "      <td>0</td>\n",
       "      <td>0.0</td>\n",
       "      <td>0.0</td>\n",
       "    </tr>\n",
       "    <tr>\n",
       "      <th>4</th>\n",
       "      <td>1075358</td>\n",
       "      <td>1311748</td>\n",
       "      <td>3000</td>\n",
       "      <td>3000</td>\n",
       "      <td>3000.0</td>\n",
       "      <td>60 months</td>\n",
       "      <td>12.69%</td>\n",
       "      <td>67.79</td>\n",
       "      <td>B</td>\n",
       "      <td>B5</td>\n",
       "      <td>University Medical Group</td>\n",
       "      <td>1 year</td>\n",
       "      <td>RENT</td>\n",
       "      <td>80000.0</td>\n",
       "      <td>Source Verified</td>\n",
       "      <td>Dec-11</td>\n",
       "      <td>Current</td>\n",
       "      <td>n</td>\n",
       "      <td>https://lendingclub.com/browse/loanDetail.acti...</td>\n",
       "      <td>Borrower added on 12/21/11 &gt; I plan on combi...</td>\n",
       "      <td>other</td>\n",
       "      <td>Personal</td>\n",
       "      <td>972xx</td>\n",
       "      <td>OR</td>\n",
       "      <td>17.94</td>\n",
       "      <td>38.0</td>\n",
       "      <td>f</td>\n",
       "      <td>0.0</td>\n",
       "      <td>1</td>\n",
       "      <td>0</td>\n",
       "      <td>0.0</td>\n",
       "      <td>0</td>\n",
       "      <td>0.0</td>\n",
       "      <td>0.0</td>\n",
       "    </tr>\n",
       "  </tbody>\n",
       "</table>\n",
       "</div>"
      ],
      "text/plain": [
       "        id  member_id  loan_amnt  funded_amnt  funded_amnt_inv        term  \\\n",
       "0  1077501    1296599       5000         5000           4975.0   36 months   \n",
       "1  1077430    1314167       2500         2500           2500.0   60 months   \n",
       "2  1077175    1313524       2400         2400           2400.0   36 months   \n",
       "3  1076863    1277178      10000        10000          10000.0   36 months   \n",
       "4  1075358    1311748       3000         3000           3000.0   60 months   \n",
       "\n",
       "  int_rate  installment grade sub_grade                 emp_title emp_length  \\\n",
       "0   10.65%       162.87     B        B2                       NaN  10+ years   \n",
       "1   15.27%        59.83     C        C4                     Ryder   < 1 year   \n",
       "2   15.96%        84.33     C        C5                       NaN  10+ years   \n",
       "3   13.49%       339.31     C        C1       AIR RESOURCES BOARD  10+ years   \n",
       "4   12.69%        67.79     B        B5  University Medical Group     1 year   \n",
       "\n",
       "  home_ownership  annual_inc verification_status issue_d  loan_status  \\\n",
       "0           RENT     24000.0            Verified  Dec-11   Fully Paid   \n",
       "1           RENT     30000.0     Source Verified  Dec-11  Charged Off   \n",
       "2           RENT     12252.0        Not Verified  Dec-11   Fully Paid   \n",
       "3           RENT     49200.0     Source Verified  Dec-11   Fully Paid   \n",
       "4           RENT     80000.0     Source Verified  Dec-11      Current   \n",
       "\n",
       "  pymnt_plan                                                url  \\\n",
       "0          n  https://lendingclub.com/browse/loanDetail.acti...   \n",
       "1          n  https://lendingclub.com/browse/loanDetail.acti...   \n",
       "2          n  https://lendingclub.com/browse/loanDetail.acti...   \n",
       "3          n  https://lendingclub.com/browse/loanDetail.acti...   \n",
       "4          n  https://lendingclub.com/browse/loanDetail.acti...   \n",
       "\n",
       "                                                desc         purpose  \\\n",
       "0    Borrower added on 12/22/11 > I need to upgra...     credit_card   \n",
       "1    Borrower added on 12/22/11 > I plan to use t...             car   \n",
       "2                                                NaN  small_business   \n",
       "3    Borrower added on 12/21/11 > to pay for prop...           other   \n",
       "4    Borrower added on 12/21/11 > I plan on combi...           other   \n",
       "\n",
       "                  title zip_code addr_state    dti  mths_since_last_delinq  \\\n",
       "0              Computer    860xx         AZ  27.65                     NaN   \n",
       "1                  bike    309xx         GA   1.00                     NaN   \n",
       "2  real estate business    606xx         IL   8.72                     NaN   \n",
       "3              personel    917xx         CA  20.00                    35.0   \n",
       "4              Personal    972xx         OR  17.94                    38.0   \n",
       "\n",
       "  initial_list_status  collections_12_mths_ex_med  policy_code  \\\n",
       "0                   f                         0.0            1   \n",
       "1                   f                         0.0            1   \n",
       "2                   f                         0.0            1   \n",
       "3                   f                         0.0            1   \n",
       "4                   f                         0.0            1   \n",
       "\n",
       "   acc_now_delinq  chargeoff_within_12_mths  delinq_amnt  \\\n",
       "0               0                       0.0            0   \n",
       "1               0                       0.0            0   \n",
       "2               0                       0.0            0   \n",
       "3               0                       0.0            0   \n",
       "4               0                       0.0            0   \n",
       "\n",
       "   pub_rec_bankruptcies  tax_liens  \n",
       "0                   0.0        0.0  \n",
       "1                   0.0        0.0  \n",
       "2                   0.0        0.0  \n",
       "3                   0.0        0.0  \n",
       "4                   0.0        0.0  "
      ]
     },
     "execution_count": 887,
     "metadata": {},
     "output_type": "execute_result"
    }
   ],
   "source": [
    "raw2.head()"
   ]
  },
  {
   "cell_type": "code",
   "execution_count": 888,
   "id": "b685c5b7-d884-432c-8146-30f8e7e1eab6",
   "metadata": {},
   "outputs": [
    {
     "data": {
      "text/plain": [
       "['emp_title',\n",
       " 'emp_length',\n",
       " 'desc',\n",
       " 'title',\n",
       " 'mths_since_last_delinq',\n",
       " 'collections_12_mths_ex_med',\n",
       " 'chargeoff_within_12_mths',\n",
       " 'pub_rec_bankruptcies',\n",
       " 'tax_liens']"
      ]
     },
     "execution_count": 888,
     "metadata": {},
     "output_type": "execute_result"
    }
   ],
   "source": [
    "temp=[col for col in raw2 if raw2[col].isnull().sum()>0]\n",
    "temp"
   ]
  },
  {
   "cell_type": "code",
   "execution_count": 889,
   "id": "53ece6dd-c812-4206-bbc9-59d15d77adb0",
   "metadata": {},
   "outputs": [],
   "source": [
    "# Creating Temporary dataframe for the remaining null values\n",
    "temp=raw2[temp]\n"
   ]
  },
  {
   "cell_type": "code",
   "execution_count": 890,
   "id": "7dbc2a57-611f-4f5d-abe2-99082a189496",
   "metadata": {},
   "outputs": [
    {
     "data": {
      "text/html": [
       "<div>\n",
       "<style scoped>\n",
       "    .dataframe tbody tr th:only-of-type {\n",
       "        vertical-align: middle;\n",
       "    }\n",
       "\n",
       "    .dataframe tbody tr th {\n",
       "        vertical-align: top;\n",
       "    }\n",
       "\n",
       "    .dataframe thead th {\n",
       "        text-align: right;\n",
       "    }\n",
       "</style>\n",
       "<table border=\"1\" class=\"dataframe\">\n",
       "  <thead>\n",
       "    <tr style=\"text-align: right;\">\n",
       "      <th></th>\n",
       "      <th>emp_title</th>\n",
       "      <th>emp_length</th>\n",
       "      <th>desc</th>\n",
       "      <th>title</th>\n",
       "      <th>mths_since_last_delinq</th>\n",
       "      <th>collections_12_mths_ex_med</th>\n",
       "      <th>chargeoff_within_12_mths</th>\n",
       "      <th>pub_rec_bankruptcies</th>\n",
       "      <th>tax_liens</th>\n",
       "    </tr>\n",
       "  </thead>\n",
       "  <tbody>\n",
       "    <tr>\n",
       "      <th>0</th>\n",
       "      <td>NaN</td>\n",
       "      <td>10+ years</td>\n",
       "      <td>Borrower added on 12/22/11 &gt; I need to upgra...</td>\n",
       "      <td>Computer</td>\n",
       "      <td>NaN</td>\n",
       "      <td>0.0</td>\n",
       "      <td>0.0</td>\n",
       "      <td>0.0</td>\n",
       "      <td>0.0</td>\n",
       "    </tr>\n",
       "    <tr>\n",
       "      <th>1</th>\n",
       "      <td>Ryder</td>\n",
       "      <td>&lt; 1 year</td>\n",
       "      <td>Borrower added on 12/22/11 &gt; I plan to use t...</td>\n",
       "      <td>bike</td>\n",
       "      <td>NaN</td>\n",
       "      <td>0.0</td>\n",
       "      <td>0.0</td>\n",
       "      <td>0.0</td>\n",
       "      <td>0.0</td>\n",
       "    </tr>\n",
       "    <tr>\n",
       "      <th>2</th>\n",
       "      <td>NaN</td>\n",
       "      <td>10+ years</td>\n",
       "      <td>NaN</td>\n",
       "      <td>real estate business</td>\n",
       "      <td>NaN</td>\n",
       "      <td>0.0</td>\n",
       "      <td>0.0</td>\n",
       "      <td>0.0</td>\n",
       "      <td>0.0</td>\n",
       "    </tr>\n",
       "    <tr>\n",
       "      <th>3</th>\n",
       "      <td>AIR RESOURCES BOARD</td>\n",
       "      <td>10+ years</td>\n",
       "      <td>Borrower added on 12/21/11 &gt; to pay for prop...</td>\n",
       "      <td>personel</td>\n",
       "      <td>35.0</td>\n",
       "      <td>0.0</td>\n",
       "      <td>0.0</td>\n",
       "      <td>0.0</td>\n",
       "      <td>0.0</td>\n",
       "    </tr>\n",
       "    <tr>\n",
       "      <th>4</th>\n",
       "      <td>University Medical Group</td>\n",
       "      <td>1 year</td>\n",
       "      <td>Borrower added on 12/21/11 &gt; I plan on combi...</td>\n",
       "      <td>Personal</td>\n",
       "      <td>38.0</td>\n",
       "      <td>0.0</td>\n",
       "      <td>0.0</td>\n",
       "      <td>0.0</td>\n",
       "      <td>0.0</td>\n",
       "    </tr>\n",
       "  </tbody>\n",
       "</table>\n",
       "</div>"
      ],
      "text/plain": [
       "                  emp_title emp_length  \\\n",
       "0                       NaN  10+ years   \n",
       "1                     Ryder   < 1 year   \n",
       "2                       NaN  10+ years   \n",
       "3       AIR RESOURCES BOARD  10+ years   \n",
       "4  University Medical Group     1 year   \n",
       "\n",
       "                                                desc                 title  \\\n",
       "0    Borrower added on 12/22/11 > I need to upgra...              Computer   \n",
       "1    Borrower added on 12/22/11 > I plan to use t...                  bike   \n",
       "2                                                NaN  real estate business   \n",
       "3    Borrower added on 12/21/11 > to pay for prop...              personel   \n",
       "4    Borrower added on 12/21/11 > I plan on combi...              Personal   \n",
       "\n",
       "   mths_since_last_delinq  collections_12_mths_ex_med  \\\n",
       "0                     NaN                         0.0   \n",
       "1                     NaN                         0.0   \n",
       "2                     NaN                         0.0   \n",
       "3                    35.0                         0.0   \n",
       "4                    38.0                         0.0   \n",
       "\n",
       "   chargeoff_within_12_mths  pub_rec_bankruptcies  tax_liens  \n",
       "0                       0.0                   0.0        0.0  \n",
       "1                       0.0                   0.0        0.0  \n",
       "2                       0.0                   0.0        0.0  \n",
       "3                       0.0                   0.0        0.0  \n",
       "4                       0.0                   0.0        0.0  "
      ]
     },
     "execution_count": 890,
     "metadata": {},
     "output_type": "execute_result"
    }
   ],
   "source": [
    "# Checking samples of the Remaining Null columns\n",
    "\n",
    "temp.head()"
   ]
  },
  {
   "cell_type": "code",
   "execution_count": 891,
   "id": "8d7925aa-baf2-46b8-8264-6dc41236d938",
   "metadata": {},
   "outputs": [
    {
     "name": "stdout",
     "output_type": "stream",
     "text": [
      "\u001b[1m\u001b[4mUnique Value counts of emp_title:\n",
      "\u001b[0m\n",
      "US Army                              134\n",
      "Bank of America                      109\n",
      "IBM                                   66\n",
      "AT&T                                  59\n",
      "Kaiser Permanente                     56\n",
      "                                    ... \n",
      "Community College of Philadelphia      1\n",
      "AMEC                                   1\n",
      "lee county sheriff                     1\n",
      "Bacon County Board of Education        1\n",
      "Evergreen Center                       1\n",
      "Name: emp_title, Length: 28820, dtype: int64\n",
      "\n",
      "\n",
      "\u001b[1m\u001b[4mUnique Value counts of emp_length:\n",
      "\u001b[0m\n",
      "10+ years    8879\n",
      "< 1 year     4583\n",
      "2 years      4388\n",
      "3 years      4095\n",
      "4 years      3436\n",
      "5 years      3282\n",
      "1 year       3240\n",
      "6 years      2229\n",
      "7 years      1773\n",
      "8 years      1479\n",
      "9 years      1258\n",
      "Name: emp_length, dtype: int64\n",
      "\n",
      "\n",
      "\u001b[1m\u001b[4mUnique Value counts of desc:\n",
      "\u001b[0m\n",
      "                                                                                                                                                                                                                                                                                                                                                                                                                                                                                                                                                                                                                                                                              210\n",
      "Debt Consolidation                                                                                                                                                                                                                                                                                                                                                                                                                                                                                                                                                                                                                                                              8\n",
      "Camping Membership                                                                                                                                                                                                                                                                                                                                                                                                                                                                                                                                                                                                                                                              6\n",
      "personal loan                                                                                                                                                                                                                                                                                                                                                                                                                                                                                                                                                                                                                                                                   3\n",
      "credit card consolidation                                                                                                                                                                                                                                                                                                                                                                                                                                                                                                                                                                                                                                                       3\n",
      "                                                                                                                                                                                                                                                                                                                                                                                                                                                                                                                                                                                                                                                                             ... \n",
      "  Borrower added on 05/13/11 > I have a very stable income and have &quot;NEVER&quot; been delinquent on any accounts. I am interested in consolidating my credit card accounts along with a personal loan for the benefit of paying one payment a month versus multiple. Thank you.<br/>                                                                                                                                                                                                                                                                                                                                                                                       1\n",
      "  Borrower added on 05/13/11 > This loan is to partially finance a car. The payments will be very manageable for me.<br/>                                                                                                                                                                                                                                                                                                                                                                                                                                                                                                                                                       1\n",
      "  Borrower added on 05/13/11 > I am consolidating my bills to make it cheaper on bills. I am up for a promotion at my job and have been here three years already. I also have a fiance that has a very reliable job who also helps with finances. My requirement is that all bills are paid on time if not early. This is to keep good standings with all businesses and keep a awesome credit score.<br/> Borrower added on 05/16/11 > I am asking for this loan to pay off bills with higher interest rates and have a lower payment every month.<br/>                                                                                                                        1\n",
      "  Borrower added on 05/13/11 > Debt Consolidation<br/> Borrower added on 05/13/11 > I plan to use this money to consolidate bills with high monthly payments and improve cash flow.<br/> Borrower added on 05/13/11 > I have good credit and I have a very stable, solid and professional job that I have held for a long time - over 20 years.  I have a Bachelor's degree and I'm currently working on a masters.<br/> Borrower added on 05/13/11 > My mortgage and utilities run approx less than 2k per month including taxes.  I have sufficient income to pay off this loan. I simply want to take my open accounts and consolidate them into one easy payment.<br/>      1\n",
      "I plan to consolidate over $7,000 of debt: a combination of credit cards and student loans.                                                                                                                                                                                                                                                                                                                                                                                                                                                                                                                                                                                     1\n",
      "Name: desc, Length: 26527, dtype: int64\n",
      "\n",
      "\n",
      "\u001b[1m\u001b[4mUnique Value counts of title:\n",
      "\u001b[0m\n",
      "Debt Consolidation                  2184\n",
      "Debt Consolidation Loan             1729\n",
      "Personal Loan                        659\n",
      "Consolidation                        517\n",
      "debt consolidation                   505\n",
      "                                    ... \n",
      "your rate is better than my rate       1\n",
      "Concession Trailer                     1\n",
      "gregs                                  1\n",
      "EZover                                 1\n",
      "JAL Loan                               1\n",
      "Name: title, Length: 19615, dtype: int64\n",
      "\n",
      "\n",
      "\u001b[1m\u001b[4mUnique Value counts of mths_since_last_delinq:\n",
      "\u001b[0m\n",
      "0.0      443\n",
      "15.0     252\n",
      "30.0     247\n",
      "23.0     247\n",
      "24.0     241\n",
      "        ... \n",
      "89.0       1\n",
      "107.0      1\n",
      "85.0       1\n",
      "97.0       1\n",
      "95.0       1\n",
      "Name: mths_since_last_delinq, Length: 95, dtype: int64\n",
      "\n",
      "\n",
      "\u001b[1m\u001b[4mUnique Value counts of collections_12_mths_ex_med:\n",
      "\u001b[0m\n",
      "0.0    39661\n",
      "Name: collections_12_mths_ex_med, dtype: int64\n",
      "\n",
      "\n",
      "\u001b[1m\u001b[4mUnique Value counts of chargeoff_within_12_mths:\n",
      "\u001b[0m\n",
      "0.0    39661\n",
      "Name: chargeoff_within_12_mths, dtype: int64\n",
      "\n",
      "\n",
      "\u001b[1m\u001b[4mUnique Value counts of pub_rec_bankruptcies:\n",
      "\u001b[0m\n",
      "0.0    37339\n",
      "1.0     1674\n",
      "2.0        7\n",
      "Name: pub_rec_bankruptcies, dtype: int64\n",
      "\n",
      "\n",
      "\u001b[1m\u001b[4mUnique Value counts of tax_liens:\n",
      "\u001b[0m\n",
      "0.0    39678\n",
      "Name: tax_liens, dtype: int64\n",
      "\n",
      "\n"
     ]
    }
   ],
   "source": [
    "# Extracting the Value Counts of Ramaining null columns\n",
    "for col in temp:\n",
    "    val=temp[col].value_counts()\n",
    "    print('\\033[1m' + '\\033[4m' +'Unique Value counts of '+ col +':' +'\\n'+'\\033[0m')\n",
    "    print(val)\n",
    "    print('\\n')"
   ]
  },
  {
   "cell_type": "code",
   "execution_count": 892,
   "id": "44cc8c19-317c-4233-9f7d-f5a2e78660b9",
   "metadata": {},
   "outputs": [],
   "source": [
    "# Removing the columns whose values are not showing any positive or negative outcome for the analysis\n",
    "raw3=raw2.drop(['collections_12_mths_ex_med','chargeoff_within_12_mths' ,'tax_liens'],axis=1)"
   ]
  },
  {
   "cell_type": "code",
   "execution_count": 893,
   "id": "73080905-f205-43ff-b416-98843e30c984",
   "metadata": {},
   "outputs": [
    {
     "data": {
      "text/html": [
       "<div>\n",
       "<style scoped>\n",
       "    .dataframe tbody tr th:only-of-type {\n",
       "        vertical-align: middle;\n",
       "    }\n",
       "\n",
       "    .dataframe tbody tr th {\n",
       "        vertical-align: top;\n",
       "    }\n",
       "\n",
       "    .dataframe thead th {\n",
       "        text-align: right;\n",
       "    }\n",
       "</style>\n",
       "<table border=\"1\" class=\"dataframe\">\n",
       "  <thead>\n",
       "    <tr style=\"text-align: right;\">\n",
       "      <th></th>\n",
       "      <th>id</th>\n",
       "      <th>member_id</th>\n",
       "      <th>loan_amnt</th>\n",
       "      <th>funded_amnt</th>\n",
       "      <th>funded_amnt_inv</th>\n",
       "      <th>term</th>\n",
       "      <th>int_rate</th>\n",
       "      <th>installment</th>\n",
       "      <th>grade</th>\n",
       "      <th>sub_grade</th>\n",
       "      <th>emp_title</th>\n",
       "      <th>emp_length</th>\n",
       "      <th>home_ownership</th>\n",
       "      <th>annual_inc</th>\n",
       "      <th>verification_status</th>\n",
       "      <th>issue_d</th>\n",
       "      <th>loan_status</th>\n",
       "      <th>pymnt_plan</th>\n",
       "      <th>url</th>\n",
       "      <th>desc</th>\n",
       "      <th>purpose</th>\n",
       "      <th>title</th>\n",
       "      <th>zip_code</th>\n",
       "      <th>addr_state</th>\n",
       "      <th>dti</th>\n",
       "      <th>mths_since_last_delinq</th>\n",
       "      <th>initial_list_status</th>\n",
       "      <th>policy_code</th>\n",
       "      <th>acc_now_delinq</th>\n",
       "      <th>delinq_amnt</th>\n",
       "      <th>pub_rec_bankruptcies</th>\n",
       "    </tr>\n",
       "  </thead>\n",
       "  <tbody>\n",
       "    <tr>\n",
       "      <th>0</th>\n",
       "      <td>1077501</td>\n",
       "      <td>1296599</td>\n",
       "      <td>5000</td>\n",
       "      <td>5000</td>\n",
       "      <td>4975.0</td>\n",
       "      <td>36 months</td>\n",
       "      <td>10.65%</td>\n",
       "      <td>162.87</td>\n",
       "      <td>B</td>\n",
       "      <td>B2</td>\n",
       "      <td>NaN</td>\n",
       "      <td>10+ years</td>\n",
       "      <td>RENT</td>\n",
       "      <td>24000.0</td>\n",
       "      <td>Verified</td>\n",
       "      <td>Dec-11</td>\n",
       "      <td>Fully Paid</td>\n",
       "      <td>n</td>\n",
       "      <td>https://lendingclub.com/browse/loanDetail.acti...</td>\n",
       "      <td>Borrower added on 12/22/11 &gt; I need to upgra...</td>\n",
       "      <td>credit_card</td>\n",
       "      <td>Computer</td>\n",
       "      <td>860xx</td>\n",
       "      <td>AZ</td>\n",
       "      <td>27.65</td>\n",
       "      <td>NaN</td>\n",
       "      <td>f</td>\n",
       "      <td>1</td>\n",
       "      <td>0</td>\n",
       "      <td>0</td>\n",
       "      <td>0.0</td>\n",
       "    </tr>\n",
       "    <tr>\n",
       "      <th>1</th>\n",
       "      <td>1077430</td>\n",
       "      <td>1314167</td>\n",
       "      <td>2500</td>\n",
       "      <td>2500</td>\n",
       "      <td>2500.0</td>\n",
       "      <td>60 months</td>\n",
       "      <td>15.27%</td>\n",
       "      <td>59.83</td>\n",
       "      <td>C</td>\n",
       "      <td>C4</td>\n",
       "      <td>Ryder</td>\n",
       "      <td>&lt; 1 year</td>\n",
       "      <td>RENT</td>\n",
       "      <td>30000.0</td>\n",
       "      <td>Source Verified</td>\n",
       "      <td>Dec-11</td>\n",
       "      <td>Charged Off</td>\n",
       "      <td>n</td>\n",
       "      <td>https://lendingclub.com/browse/loanDetail.acti...</td>\n",
       "      <td>Borrower added on 12/22/11 &gt; I plan to use t...</td>\n",
       "      <td>car</td>\n",
       "      <td>bike</td>\n",
       "      <td>309xx</td>\n",
       "      <td>GA</td>\n",
       "      <td>1.00</td>\n",
       "      <td>NaN</td>\n",
       "      <td>f</td>\n",
       "      <td>1</td>\n",
       "      <td>0</td>\n",
       "      <td>0</td>\n",
       "      <td>0.0</td>\n",
       "    </tr>\n",
       "    <tr>\n",
       "      <th>2</th>\n",
       "      <td>1077175</td>\n",
       "      <td>1313524</td>\n",
       "      <td>2400</td>\n",
       "      <td>2400</td>\n",
       "      <td>2400.0</td>\n",
       "      <td>36 months</td>\n",
       "      <td>15.96%</td>\n",
       "      <td>84.33</td>\n",
       "      <td>C</td>\n",
       "      <td>C5</td>\n",
       "      <td>NaN</td>\n",
       "      <td>10+ years</td>\n",
       "      <td>RENT</td>\n",
       "      <td>12252.0</td>\n",
       "      <td>Not Verified</td>\n",
       "      <td>Dec-11</td>\n",
       "      <td>Fully Paid</td>\n",
       "      <td>n</td>\n",
       "      <td>https://lendingclub.com/browse/loanDetail.acti...</td>\n",
       "      <td>NaN</td>\n",
       "      <td>small_business</td>\n",
       "      <td>real estate business</td>\n",
       "      <td>606xx</td>\n",
       "      <td>IL</td>\n",
       "      <td>8.72</td>\n",
       "      <td>NaN</td>\n",
       "      <td>f</td>\n",
       "      <td>1</td>\n",
       "      <td>0</td>\n",
       "      <td>0</td>\n",
       "      <td>0.0</td>\n",
       "    </tr>\n",
       "    <tr>\n",
       "      <th>3</th>\n",
       "      <td>1076863</td>\n",
       "      <td>1277178</td>\n",
       "      <td>10000</td>\n",
       "      <td>10000</td>\n",
       "      <td>10000.0</td>\n",
       "      <td>36 months</td>\n",
       "      <td>13.49%</td>\n",
       "      <td>339.31</td>\n",
       "      <td>C</td>\n",
       "      <td>C1</td>\n",
       "      <td>AIR RESOURCES BOARD</td>\n",
       "      <td>10+ years</td>\n",
       "      <td>RENT</td>\n",
       "      <td>49200.0</td>\n",
       "      <td>Source Verified</td>\n",
       "      <td>Dec-11</td>\n",
       "      <td>Fully Paid</td>\n",
       "      <td>n</td>\n",
       "      <td>https://lendingclub.com/browse/loanDetail.acti...</td>\n",
       "      <td>Borrower added on 12/21/11 &gt; to pay for prop...</td>\n",
       "      <td>other</td>\n",
       "      <td>personel</td>\n",
       "      <td>917xx</td>\n",
       "      <td>CA</td>\n",
       "      <td>20.00</td>\n",
       "      <td>35.0</td>\n",
       "      <td>f</td>\n",
       "      <td>1</td>\n",
       "      <td>0</td>\n",
       "      <td>0</td>\n",
       "      <td>0.0</td>\n",
       "    </tr>\n",
       "    <tr>\n",
       "      <th>4</th>\n",
       "      <td>1075358</td>\n",
       "      <td>1311748</td>\n",
       "      <td>3000</td>\n",
       "      <td>3000</td>\n",
       "      <td>3000.0</td>\n",
       "      <td>60 months</td>\n",
       "      <td>12.69%</td>\n",
       "      <td>67.79</td>\n",
       "      <td>B</td>\n",
       "      <td>B5</td>\n",
       "      <td>University Medical Group</td>\n",
       "      <td>1 year</td>\n",
       "      <td>RENT</td>\n",
       "      <td>80000.0</td>\n",
       "      <td>Source Verified</td>\n",
       "      <td>Dec-11</td>\n",
       "      <td>Current</td>\n",
       "      <td>n</td>\n",
       "      <td>https://lendingclub.com/browse/loanDetail.acti...</td>\n",
       "      <td>Borrower added on 12/21/11 &gt; I plan on combi...</td>\n",
       "      <td>other</td>\n",
       "      <td>Personal</td>\n",
       "      <td>972xx</td>\n",
       "      <td>OR</td>\n",
       "      <td>17.94</td>\n",
       "      <td>38.0</td>\n",
       "      <td>f</td>\n",
       "      <td>1</td>\n",
       "      <td>0</td>\n",
       "      <td>0</td>\n",
       "      <td>0.0</td>\n",
       "    </tr>\n",
       "  </tbody>\n",
       "</table>\n",
       "</div>"
      ],
      "text/plain": [
       "        id  member_id  loan_amnt  funded_amnt  funded_amnt_inv        term  \\\n",
       "0  1077501    1296599       5000         5000           4975.0   36 months   \n",
       "1  1077430    1314167       2500         2500           2500.0   60 months   \n",
       "2  1077175    1313524       2400         2400           2400.0   36 months   \n",
       "3  1076863    1277178      10000        10000          10000.0   36 months   \n",
       "4  1075358    1311748       3000         3000           3000.0   60 months   \n",
       "\n",
       "  int_rate  installment grade sub_grade                 emp_title emp_length  \\\n",
       "0   10.65%       162.87     B        B2                       NaN  10+ years   \n",
       "1   15.27%        59.83     C        C4                     Ryder   < 1 year   \n",
       "2   15.96%        84.33     C        C5                       NaN  10+ years   \n",
       "3   13.49%       339.31     C        C1       AIR RESOURCES BOARD  10+ years   \n",
       "4   12.69%        67.79     B        B5  University Medical Group     1 year   \n",
       "\n",
       "  home_ownership  annual_inc verification_status issue_d  loan_status  \\\n",
       "0           RENT     24000.0            Verified  Dec-11   Fully Paid   \n",
       "1           RENT     30000.0     Source Verified  Dec-11  Charged Off   \n",
       "2           RENT     12252.0        Not Verified  Dec-11   Fully Paid   \n",
       "3           RENT     49200.0     Source Verified  Dec-11   Fully Paid   \n",
       "4           RENT     80000.0     Source Verified  Dec-11      Current   \n",
       "\n",
       "  pymnt_plan                                                url  \\\n",
       "0          n  https://lendingclub.com/browse/loanDetail.acti...   \n",
       "1          n  https://lendingclub.com/browse/loanDetail.acti...   \n",
       "2          n  https://lendingclub.com/browse/loanDetail.acti...   \n",
       "3          n  https://lendingclub.com/browse/loanDetail.acti...   \n",
       "4          n  https://lendingclub.com/browse/loanDetail.acti...   \n",
       "\n",
       "                                                desc         purpose  \\\n",
       "0    Borrower added on 12/22/11 > I need to upgra...     credit_card   \n",
       "1    Borrower added on 12/22/11 > I plan to use t...             car   \n",
       "2                                                NaN  small_business   \n",
       "3    Borrower added on 12/21/11 > to pay for prop...           other   \n",
       "4    Borrower added on 12/21/11 > I plan on combi...           other   \n",
       "\n",
       "                  title zip_code addr_state    dti  mths_since_last_delinq  \\\n",
       "0              Computer    860xx         AZ  27.65                     NaN   \n",
       "1                  bike    309xx         GA   1.00                     NaN   \n",
       "2  real estate business    606xx         IL   8.72                     NaN   \n",
       "3              personel    917xx         CA  20.00                    35.0   \n",
       "4              Personal    972xx         OR  17.94                    38.0   \n",
       "\n",
       "  initial_list_status  policy_code  acc_now_delinq  delinq_amnt  \\\n",
       "0                   f            1               0            0   \n",
       "1                   f            1               0            0   \n",
       "2                   f            1               0            0   \n",
       "3                   f            1               0            0   \n",
       "4                   f            1               0            0   \n",
       "\n",
       "   pub_rec_bankruptcies  \n",
       "0                   0.0  \n",
       "1                   0.0  \n",
       "2                   0.0  \n",
       "3                   0.0  \n",
       "4                   0.0  "
      ]
     },
     "execution_count": 893,
     "metadata": {},
     "output_type": "execute_result"
    }
   ],
   "source": [
    "raw3.head()"
   ]
  },
  {
   "cell_type": "markdown",
   "id": "0a72426e-1f25-4463-b44d-c85504e21ecc",
   "metadata": {},
   "source": [
    "#### The below columns will not have any potential impact over the problem statemnet analysis \n",
    "\n",
    "* 'url': URL for the LC page with the listing data\n",
    "* 'desc': Loan description provided by the borrower\n",
    "* 'zip_code':The first 3 numbers of the zip code provided by the borrower in the loan application.\n",
    "* 'id': A unique LC assigned ID for the loan listing.\n",
    "* 'member_id': A unique LC assigned Id for the borrower member.\n",
    "* 'pymnt_plan': Indicates if a payment plan has been put in place for the loan\n"
   ]
  },
  {
   "cell_type": "code",
   "execution_count": 894,
   "id": "1bda5708-47f7-4c18-a427-acdb51ff2753",
   "metadata": {},
   "outputs": [],
   "source": [
    "# Removing the Identified Columns\n",
    "raw3=raw3.drop(['url','desc' ,'zip_code','id','member_id','pymnt_plan'],axis=1)"
   ]
  },
  {
   "cell_type": "markdown",
   "id": "977a7362-c629-40aa-b4a2-cf6db9dff74e",
   "metadata": {},
   "source": [
    "#### Removing the columns whose values are not suffcient to decide any outcomes for the given probelm statement"
   ]
  },
  {
   "cell_type": "code",
   "execution_count": 895,
   "id": "d1dd7f6f-209e-42df-9100-95bcac9f8b9f",
   "metadata": {},
   "outputs": [
    {
     "data": {
      "text/html": [
       "<div>\n",
       "<style scoped>\n",
       "    .dataframe tbody tr th:only-of-type {\n",
       "        vertical-align: middle;\n",
       "    }\n",
       "\n",
       "    .dataframe tbody tr th {\n",
       "        vertical-align: top;\n",
       "    }\n",
       "\n",
       "    .dataframe thead th {\n",
       "        text-align: right;\n",
       "    }\n",
       "</style>\n",
       "<table border=\"1\" class=\"dataframe\">\n",
       "  <thead>\n",
       "    <tr style=\"text-align: right;\">\n",
       "      <th></th>\n",
       "      <th>initial_list_status</th>\n",
       "      <th>policy_code</th>\n",
       "      <th>acc_now_delinq</th>\n",
       "      <th>delinq_amnt</th>\n",
       "    </tr>\n",
       "  </thead>\n",
       "  <tbody>\n",
       "    <tr>\n",
       "      <th>0</th>\n",
       "      <td>f</td>\n",
       "      <td>1</td>\n",
       "      <td>0</td>\n",
       "      <td>0</td>\n",
       "    </tr>\n",
       "    <tr>\n",
       "      <th>1</th>\n",
       "      <td>f</td>\n",
       "      <td>1</td>\n",
       "      <td>0</td>\n",
       "      <td>0</td>\n",
       "    </tr>\n",
       "    <tr>\n",
       "      <th>2</th>\n",
       "      <td>f</td>\n",
       "      <td>1</td>\n",
       "      <td>0</td>\n",
       "      <td>0</td>\n",
       "    </tr>\n",
       "    <tr>\n",
       "      <th>3</th>\n",
       "      <td>f</td>\n",
       "      <td>1</td>\n",
       "      <td>0</td>\n",
       "      <td>0</td>\n",
       "    </tr>\n",
       "    <tr>\n",
       "      <th>4</th>\n",
       "      <td>f</td>\n",
       "      <td>1</td>\n",
       "      <td>0</td>\n",
       "      <td>0</td>\n",
       "    </tr>\n",
       "  </tbody>\n",
       "</table>\n",
       "</div>"
      ],
      "text/plain": [
       "  initial_list_status  policy_code  acc_now_delinq  delinq_amnt\n",
       "0                   f            1               0            0\n",
       "1                   f            1               0            0\n",
       "2                   f            1               0            0\n",
       "3                   f            1               0            0\n",
       "4                   f            1               0            0"
      ]
     },
     "execution_count": 895,
     "metadata": {},
     "output_type": "execute_result"
    }
   ],
   "source": [
    "temp =[ col for col in raw3 if raw3[col].nunique()==1]\n",
    "raw[temp].head()"
   ]
  },
  {
   "cell_type": "markdown",
   "id": "02eaf789-ce19-4bc6-95a7-385907e34a04",
   "metadata": {},
   "source": [
    "### The below Columns has values which will not influence the analysis\n",
    "\n",
    "* 'pymnt_plan': Indicates if a payment plan has been put in place for the loan All loans have payment plan as 'n')\n",
    "* 'initial_list_status': The initial listing status of the loan. Possible values are – W, F ( as per the Data all Loans are 'F')\n",
    "* 'policy_code': publicly available policy_code=1\n",
    "                 new products not publicly available policy_code=2\n",
    "                 (As per the Data all products were publicly available)\n",
    "* 'acc_now_delinq': The number of accounts on which the borrower is now delinquent.(All borrower has 0 delinquent loan                              accounts)\n",
    "* 'delinq_amnt': The past-due amount owed for the accounts on which the borrower is now delinquent.(No amounts were owed by the borrower since all borrowers has 0 delinquent account)"
   ]
  },
  {
   "cell_type": "code",
   "execution_count": 896,
   "id": "182dee87-ad38-418a-9bb7-65ce3f6e67c5",
   "metadata": {},
   "outputs": [],
   "source": [
    "raw3=raw3.drop(temp,axis=1)"
   ]
  },
  {
   "cell_type": "code",
   "execution_count": 897,
   "id": "ec21ad2f-41cc-4312-bdeb-0a5e480618e3",
   "metadata": {},
   "outputs": [
    {
     "data": {
      "text/plain": [
       "(39717, 21)"
      ]
     },
     "execution_count": 897,
     "metadata": {},
     "output_type": "execute_result"
    }
   ],
   "source": [
    "raw3.shape"
   ]
  },
  {
   "cell_type": "code",
   "execution_count": 898,
   "id": "1896eaca-a61b-4fa6-b727-9cf9831a0298",
   "metadata": {},
   "outputs": [
    {
     "data": {
      "text/html": [
       "<div>\n",
       "<style scoped>\n",
       "    .dataframe tbody tr th:only-of-type {\n",
       "        vertical-align: middle;\n",
       "    }\n",
       "\n",
       "    .dataframe tbody tr th {\n",
       "        vertical-align: top;\n",
       "    }\n",
       "\n",
       "    .dataframe thead th {\n",
       "        text-align: right;\n",
       "    }\n",
       "</style>\n",
       "<table border=\"1\" class=\"dataframe\">\n",
       "  <thead>\n",
       "    <tr style=\"text-align: right;\">\n",
       "      <th></th>\n",
       "      <th>column</th>\n",
       "      <th>freq</th>\n",
       "    </tr>\n",
       "  </thead>\n",
       "  <tbody>\n",
       "    <tr>\n",
       "      <th>0</th>\n",
       "      <td>emp_title</td>\n",
       "      <td>6.19</td>\n",
       "    </tr>\n",
       "    <tr>\n",
       "      <th>1</th>\n",
       "      <td>emp_length</td>\n",
       "      <td>2.71</td>\n",
       "    </tr>\n",
       "    <tr>\n",
       "      <th>2</th>\n",
       "      <td>title</td>\n",
       "      <td>0.03</td>\n",
       "    </tr>\n",
       "    <tr>\n",
       "      <th>3</th>\n",
       "      <td>mths_since_last_delinq</td>\n",
       "      <td>64.66</td>\n",
       "    </tr>\n",
       "    <tr>\n",
       "      <th>4</th>\n",
       "      <td>pub_rec_bankruptcies</td>\n",
       "      <td>1.75</td>\n",
       "    </tr>\n",
       "  </tbody>\n",
       "</table>\n",
       "</div>"
      ],
      "text/plain": [
       "                   column   freq\n",
       "0               emp_title   6.19\n",
       "1              emp_length   2.71\n",
       "2                   title   0.03\n",
       "3  mths_since_last_delinq  64.66\n",
       "4    pub_rec_bankruptcies   1.75"
      ]
     },
     "execution_count": 898,
     "metadata": {},
     "output_type": "execute_result"
    }
   ],
   "source": [
    "# Checking Null/Missing Values after Fixing Rows and Columns\n",
    "\n",
    "\n",
    "temp=pd.DataFrame([[ col for col in raw3 if raw3[col].isnull().sum() > 0 ],\n",
    "                    [ round(raw3[col].isnull().sum()*100/len(raw3),2) for col in raw3 if raw3[col].isnull().sum() > 0 ]] ).transpose()\n",
    "temp.columns=['column','freq']\n",
    "temp"
   ]
  },
  {
   "cell_type": "markdown",
   "id": "d8755715-5022-495a-854f-bb7a80ea5909",
   "metadata": {},
   "source": [
    "#### Observations after fixing Rows/Columns:\n",
    "\n",
    "* The final raw3 dataset for Loan.csv still has some null/missing values even after cleaning the Rows & Columns.\n",
    "* This missing or null values will be replaced by using some data Imputation techniques\n",
    "* Before Proceeding further with the imputation the Data types needs to be validated and changes had to be made wherever it is neccasary. "
   ]
  },
  {
   "cell_type": "markdown",
   "id": "3fd6fc9f-4b51-4db5-b92b-3f28fa675bb3",
   "metadata": {},
   "source": [
    "### Data Type Check"
   ]
  },
  {
   "cell_type": "code",
   "execution_count": 899,
   "id": "c8320f2f-beb0-4695-a5e9-a648d98b8233",
   "metadata": {},
   "outputs": [
    {
     "name": "stdout",
     "output_type": "stream",
     "text": [
      "<class 'pandas.core.frame.DataFrame'>\n",
      "Int64Index: 39717 entries, 0 to 39716\n",
      "Data columns (total 21 columns):\n",
      " #   Column                  Non-Null Count  Dtype  \n",
      "---  ------                  --------------  -----  \n",
      " 0   loan_amnt               39717 non-null  int64  \n",
      " 1   funded_amnt             39717 non-null  int64  \n",
      " 2   funded_amnt_inv         39717 non-null  float64\n",
      " 3   term                    39717 non-null  object \n",
      " 4   int_rate                39717 non-null  object \n",
      " 5   installment             39717 non-null  float64\n",
      " 6   grade                   39717 non-null  object \n",
      " 7   sub_grade               39717 non-null  object \n",
      " 8   emp_title               37258 non-null  object \n",
      " 9   emp_length              38642 non-null  object \n",
      " 10  home_ownership          39717 non-null  object \n",
      " 11  annual_inc              39717 non-null  float64\n",
      " 12  verification_status     39717 non-null  object \n",
      " 13  issue_d                 39717 non-null  object \n",
      " 14  loan_status             39717 non-null  object \n",
      " 15  purpose                 39717 non-null  object \n",
      " 16  title                   39706 non-null  object \n",
      " 17  addr_state              39717 non-null  object \n",
      " 18  dti                     39717 non-null  float64\n",
      " 19  mths_since_last_delinq  14035 non-null  float64\n",
      " 20  pub_rec_bankruptcies    39020 non-null  float64\n",
      "dtypes: float64(6), int64(2), object(13)\n",
      "memory usage: 6.7+ MB\n"
     ]
    }
   ],
   "source": [
    "# Checking the fill rate of the columns to identify the columns that require data imputation\n",
    "raw3.info()"
   ]
  },
  {
   "cell_type": "code",
   "execution_count": 901,
   "id": "ba02548c-afe0-4775-ae25-6308f24e7b51",
   "metadata": {},
   "outputs": [
    {
     "name": "stdout",
     "output_type": "stream",
     "text": [
      "<class 'pandas.core.frame.DataFrame'>\n",
      "Int64Index: 39717 entries, 0 to 39716\n",
      "Data columns (total 21 columns):\n",
      " #   Column                  Non-Null Count  Dtype  \n",
      "---  ------                  --------------  -----  \n",
      " 0   loan_amnt               39717 non-null  float64\n",
      " 1   funded_amnt             39717 non-null  float64\n",
      " 2   funded_amnt_inv         39717 non-null  float64\n",
      " 3   term                    39717 non-null  object \n",
      " 4   int_rate                39717 non-null  object \n",
      " 5   installment             39717 non-null  float64\n",
      " 6   grade                   39717 non-null  object \n",
      " 7   sub_grade               39717 non-null  object \n",
      " 8   emp_title               37258 non-null  object \n",
      " 9   emp_length              38642 non-null  object \n",
      " 10  home_ownership          39717 non-null  object \n",
      " 11  annual_inc              39717 non-null  float64\n",
      " 12  verification_status     39717 non-null  object \n",
      " 13  issue_d                 39717 non-null  object \n",
      " 14  loan_status             39717 non-null  object \n",
      " 15  purpose                 39717 non-null  object \n",
      " 16  title                   39706 non-null  object \n",
      " 17  addr_state              39717 non-null  object \n",
      " 18  dti                     39717 non-null  float64\n",
      " 19  mths_since_last_delinq  14035 non-null  float64\n",
      " 20  pub_rec_bankruptcies    39020 non-null  float64\n",
      "dtypes: float64(8), object(13)\n",
      "memory usage: 6.7+ MB\n"
     ]
    }
   ],
   "source": [
    "#Standardising all the Amounts Columns to Float Data type\n",
    "\n",
    "raw3['loan_amnt']=raw3['loan_amnt'].astype(float)\n",
    "raw3['funded_amnt']=raw3['funded_amnt'].astype(float)\n",
    "\n",
    "raw3.info()"
   ]
  },
  {
   "cell_type": "markdown",
   "id": "7977df83-18f2-4c22-8ab6-ae98ba99e932",
   "metadata": {},
   "source": [
    "#### The Data type of the below columns seems to be odd, these columns needs to be reviewed and assigned further with appropiate datatypes.\n",
    "\n",
    "* term\n",
    "* int_rate\n",
    "* emp_length"
   ]
  },
  {
   "cell_type": "code",
   "execution_count": 902,
   "id": "0953b8a4-41e8-4b08-a842-1bf0a7fc2c28",
   "metadata": {},
   "outputs": [
    {
     "data": {
      "text/html": [
       "<div>\n",
       "<style scoped>\n",
       "    .dataframe tbody tr th:only-of-type {\n",
       "        vertical-align: middle;\n",
       "    }\n",
       "\n",
       "    .dataframe tbody tr th {\n",
       "        vertical-align: top;\n",
       "    }\n",
       "\n",
       "    .dataframe thead th {\n",
       "        text-align: right;\n",
       "    }\n",
       "</style>\n",
       "<table border=\"1\" class=\"dataframe\">\n",
       "  <thead>\n",
       "    <tr style=\"text-align: right;\">\n",
       "      <th></th>\n",
       "      <th>term</th>\n",
       "      <th>int_rate</th>\n",
       "      <th>emp_length</th>\n",
       "    </tr>\n",
       "  </thead>\n",
       "  <tbody>\n",
       "    <tr>\n",
       "      <th>0</th>\n",
       "      <td>36 months</td>\n",
       "      <td>10.65%</td>\n",
       "      <td>10+ years</td>\n",
       "    </tr>\n",
       "    <tr>\n",
       "      <th>1</th>\n",
       "      <td>60 months</td>\n",
       "      <td>15.27%</td>\n",
       "      <td>&lt; 1 year</td>\n",
       "    </tr>\n",
       "    <tr>\n",
       "      <th>2</th>\n",
       "      <td>36 months</td>\n",
       "      <td>15.96%</td>\n",
       "      <td>10+ years</td>\n",
       "    </tr>\n",
       "    <tr>\n",
       "      <th>3</th>\n",
       "      <td>36 months</td>\n",
       "      <td>13.49%</td>\n",
       "      <td>10+ years</td>\n",
       "    </tr>\n",
       "    <tr>\n",
       "      <th>4</th>\n",
       "      <td>60 months</td>\n",
       "      <td>12.69%</td>\n",
       "      <td>1 year</td>\n",
       "    </tr>\n",
       "  </tbody>\n",
       "</table>\n",
       "</div>"
      ],
      "text/plain": [
       "         term int_rate emp_length\n",
       "0   36 months   10.65%  10+ years\n",
       "1   60 months   15.27%   < 1 year\n",
       "2   36 months   15.96%  10+ years\n",
       "3   36 months   13.49%  10+ years\n",
       "4   60 months   12.69%     1 year"
      ]
     },
     "execution_count": 902,
     "metadata": {},
     "output_type": "execute_result"
    }
   ],
   "source": [
    "# Checking Sample values of these columns\n",
    "raw3[['term','int_rate','emp_length']].head()"
   ]
  },
  {
   "cell_type": "markdown",
   "id": "67207bb5-c9d4-4b9b-b824-40f0fb501095",
   "metadata": {},
   "source": [
    "#### Data type correction of 'term' column:"
   ]
  },
  {
   "cell_type": "code",
   "execution_count": 903,
   "id": "55c8c2ad-9d58-445e-8d29-e19352f440ac",
   "metadata": {
    "tags": []
   },
   "outputs": [],
   "source": [
    "raw3['term']=raw3['term'].str.replace('\\D','')"
   ]
  },
  {
   "cell_type": "code",
   "execution_count": 904,
   "id": "c7095937-25f4-47f6-a772-21f6793ce601",
   "metadata": {},
   "outputs": [
    {
     "data": {
      "text/plain": [
       "36    29096\n",
       "60    10621\n",
       "Name: term, dtype: int64"
      ]
     },
     "execution_count": 904,
     "metadata": {},
     "output_type": "execute_result"
    }
   ],
   "source": [
    "raw3['term'].value_counts()"
   ]
  },
  {
   "cell_type": "code",
   "execution_count": 905,
   "id": "9bccb3b8-67e2-4ff9-83ea-4434d5588968",
   "metadata": {},
   "outputs": [],
   "source": [
    "raw3['term']=raw3['term'].astype(int)"
   ]
  },
  {
   "cell_type": "markdown",
   "id": "e270fde8-db77-4a3a-9034-62ea1c5e68fb",
   "metadata": {},
   "source": [
    "#### Data type correction of 'int_rate' column:"
   ]
  },
  {
   "cell_type": "code",
   "execution_count": 906,
   "id": "4aef2364-d874-42b1-9dcd-853d81bf1a79",
   "metadata": {},
   "outputs": [],
   "source": [
    "raw3['int_rate']=raw3['int_rate'].str.replace('%','')"
   ]
  },
  {
   "cell_type": "code",
   "execution_count": 907,
   "id": "129f0d7d-5806-4cce-afd2-d07d9c5b2004",
   "metadata": {},
   "outputs": [
    {
     "data": {
      "text/plain": [
       "10.99    956\n",
       "13.49    826\n",
       "11.49    825\n",
       "7.51     787\n",
       "7.88     725\n",
       "        ... \n",
       "18.36      1\n",
       "16.96      1\n",
       "16.15      1\n",
       "16.01      1\n",
       "17.44      1\n",
       "Name: int_rate, Length: 371, dtype: int64"
      ]
     },
     "execution_count": 907,
     "metadata": {},
     "output_type": "execute_result"
    }
   ],
   "source": [
    "raw3['int_rate'].value_counts()"
   ]
  },
  {
   "cell_type": "code",
   "execution_count": 908,
   "id": "9c921d8d-08b2-4dda-a70f-a672ae1d6332",
   "metadata": {},
   "outputs": [],
   "source": [
    "raw3['int_rate']=raw3['int_rate'].astype(float)"
   ]
  },
  {
   "cell_type": "markdown",
   "id": "1cbf4505-deb3-4201-90f2-7b388ad119ad",
   "metadata": {},
   "source": [
    "#### Data type correction of 'emp_length' column:"
   ]
  },
  {
   "cell_type": "code",
   "execution_count": 909,
   "id": "1c7fa01e-7e71-45f6-ab2f-39c8c53d7c7e",
   "metadata": {},
   "outputs": [],
   "source": [
    "raw3['emp_length']=raw3['emp_length'].str.replace('\\D','')"
   ]
  },
  {
   "cell_type": "code",
   "execution_count": 910,
   "id": "a4e8584e-9f2c-4f03-a7d1-e439c4ec2535",
   "metadata": {},
   "outputs": [
    {
     "data": {
      "text/plain": [
       "10    8879\n",
       "1     7823\n",
       "2     4388\n",
       "3     4095\n",
       "4     3436\n",
       "5     3282\n",
       "6     2229\n",
       "7     1773\n",
       "8     1479\n",
       "9     1258\n",
       "Name: emp_length, dtype: int64"
      ]
     },
     "execution_count": 910,
     "metadata": {},
     "output_type": "execute_result"
    }
   ],
   "source": [
    "raw3['emp_length'].value_counts()"
   ]
  },
  {
   "cell_type": "markdown",
   "id": "593482c9-be37-4de0-bd77-680a772f721b",
   "metadata": {},
   "source": [
    "##### Observed null values in emp_length. Assigning nan to '0', Since the employment tenure was missing for some employess"
   ]
  },
  {
   "cell_type": "code",
   "execution_count": 911,
   "id": "3ce00d80-42e2-4ce0-9336-2581914eedfa",
   "metadata": {},
   "outputs": [],
   "source": [
    "raw3['emp_length']=raw3['emp_length'].fillna(0)"
   ]
  },
  {
   "cell_type": "code",
   "execution_count": 912,
   "id": "76a69eb9-ce6a-40cf-888a-7c720ff9c1c7",
   "metadata": {},
   "outputs": [],
   "source": [
    "raw3['emp_length']=raw3['emp_length'].astype(int)"
   ]
  },
  {
   "cell_type": "markdown",
   "id": "b86a34a8-b6fc-46da-a861-cc0680b54ac4",
   "metadata": {},
   "source": [
    "### Data Imputation "
   ]
  },
  {
   "cell_type": "code",
   "execution_count": 913,
   "id": "c41d58dc-be2c-4767-8b6e-6762163b729e",
   "metadata": {},
   "outputs": [
    {
     "data": {
      "text/html": [
       "<div>\n",
       "<style scoped>\n",
       "    .dataframe tbody tr th:only-of-type {\n",
       "        vertical-align: middle;\n",
       "    }\n",
       "\n",
       "    .dataframe tbody tr th {\n",
       "        vertical-align: top;\n",
       "    }\n",
       "\n",
       "    .dataframe thead th {\n",
       "        text-align: right;\n",
       "    }\n",
       "</style>\n",
       "<table border=\"1\" class=\"dataframe\">\n",
       "  <thead>\n",
       "    <tr style=\"text-align: right;\">\n",
       "      <th></th>\n",
       "      <th>column</th>\n",
       "      <th>freq</th>\n",
       "    </tr>\n",
       "  </thead>\n",
       "  <tbody>\n",
       "    <tr>\n",
       "      <th>0</th>\n",
       "      <td>emp_title</td>\n",
       "      <td>6.19</td>\n",
       "    </tr>\n",
       "    <tr>\n",
       "      <th>1</th>\n",
       "      <td>title</td>\n",
       "      <td>0.03</td>\n",
       "    </tr>\n",
       "    <tr>\n",
       "      <th>2</th>\n",
       "      <td>mths_since_last_delinq</td>\n",
       "      <td>64.66</td>\n",
       "    </tr>\n",
       "    <tr>\n",
       "      <th>3</th>\n",
       "      <td>pub_rec_bankruptcies</td>\n",
       "      <td>1.75</td>\n",
       "    </tr>\n",
       "  </tbody>\n",
       "</table>\n",
       "</div>"
      ],
      "text/plain": [
       "                   column   freq\n",
       "0               emp_title   6.19\n",
       "1                   title   0.03\n",
       "2  mths_since_last_delinq  64.66\n",
       "3    pub_rec_bankruptcies   1.75"
      ]
     },
     "execution_count": 913,
     "metadata": {},
     "output_type": "execute_result"
    }
   ],
   "source": [
    "# Checking Null/Missing Values after Fixing Rows and Columns\n",
    "\n",
    "\n",
    "temp=pd.DataFrame([[ col for col in raw3 if raw3[col].isnull().sum() > 0 ],\n",
    "                    [ round(raw3[col].isnull().sum()*100/len(raw3),2) for col in raw3 if raw3[col].isnull().sum() > 0 ]] ).transpose()\n",
    "temp.columns=['column','freq']\n",
    "temp"
   ]
  },
  {
   "cell_type": "markdown",
   "id": "4f581b1f-f07b-49ed-91b0-e080b12bac6e",
   "metadata": {},
   "source": [
    "#### Cleaning Missing/Null values in 'emp_title':"
   ]
  },
  {
   "cell_type": "code",
   "execution_count": 914,
   "id": "f1c96e00-b519-4d09-9841-06b29eab017c",
   "metadata": {},
   "outputs": [
    {
     "data": {
      "text/plain": [
       "array([nan, 'Ryder', 'AIR RESOURCES BOARD', ..., 'FiSite Research',\n",
       "       'Squarewave Solutions, Ltd.', 'Evergreen Center'], dtype=object)"
      ]
     },
     "execution_count": 914,
     "metadata": {},
     "output_type": "execute_result"
    }
   ],
   "source": [
    "raw3['emp_title'].unique()"
   ]
  },
  {
   "cell_type": "markdown",
   "id": "424855cf-33b8-45da-b55f-b64d5a47da2a",
   "metadata": {},
   "source": [
    "##### Assigning a new label called 'Unknown' to the missing Employment titles"
   ]
  },
  {
   "cell_type": "code",
   "execution_count": 915,
   "id": "0dbb1b5d-ffd4-4d2e-9f0b-ca88d45172ba",
   "metadata": {},
   "outputs": [],
   "source": [
    "raw3['emp_title']=raw3['emp_title'].fillna('Unknown')"
   ]
  },
  {
   "cell_type": "code",
   "execution_count": 916,
   "id": "1a2dca85-6d47-4e1a-bca7-cde6eea6a62a",
   "metadata": {},
   "outputs": [
    {
     "data": {
      "text/plain": [
       "Unknown                            2459\n",
       "US Army                             134\n",
       "Bank of America                     109\n",
       "IBM                                  66\n",
       "AT&T                                 59\n",
       "                                   ... \n",
       "AMEC                                  1\n",
       "lee county sheriff                    1\n",
       "Bacon County Board of Education       1\n",
       "Hotpads                               1\n",
       "Evergreen Center                      1\n",
       "Name: emp_title, Length: 28821, dtype: int64"
      ]
     },
     "execution_count": 916,
     "metadata": {},
     "output_type": "execute_result"
    }
   ],
   "source": [
    "raw3['emp_title'].value_counts()"
   ]
  },
  {
   "cell_type": "markdown",
   "id": "c5ba6013-aa4b-48ce-9ff1-b456baa591de",
   "metadata": {},
   "source": [
    "#### Cleaning Missing/Null values in 'title':"
   ]
  },
  {
   "cell_type": "code",
   "execution_count": 917,
   "id": "ddf2a34f-ff20-4e87-8dce-e16d66242b81",
   "metadata": {},
   "outputs": [
    {
     "data": {
      "text/plain": [
       "array(['Computer', 'bike', 'real estate business', ...,\n",
       "       'Retiring credit card debt', 'MBA Loan Consolidation', 'JAL Loan'],\n",
       "      dtype=object)"
      ]
     },
     "execution_count": 917,
     "metadata": {},
     "output_type": "execute_result"
    }
   ],
   "source": [
    "raw3['title'].unique()"
   ]
  },
  {
   "cell_type": "code",
   "execution_count": 918,
   "id": "2c75da87-6b31-4d01-a84d-745e255dde63",
   "metadata": {},
   "outputs": [
    {
     "data": {
      "text/plain": [
       "Debt Consolidation                  2184\n",
       "Debt Consolidation Loan             1729\n",
       "Personal Loan                        659\n",
       "Consolidation                        517\n",
       "debt consolidation                   505\n",
       "                                    ... \n",
       "your rate is better than my rate       1\n",
       "Concession Trailer                     1\n",
       "gregs                                  1\n",
       "EZover                                 1\n",
       "JAL Loan                               1\n",
       "Name: title, Length: 19615, dtype: int64"
      ]
     },
     "execution_count": 918,
     "metadata": {},
     "output_type": "execute_result"
    }
   ],
   "source": [
    "raw3['title'].value_counts()"
   ]
  },
  {
   "cell_type": "markdown",
   "id": "0297c4ef-d4cd-46d2-81a4-388ca491bd5c",
   "metadata": {},
   "source": [
    "##### Assigning a new label called 'Unknown_title' to the missing Employment titles"
   ]
  },
  {
   "cell_type": "code",
   "execution_count": 919,
   "id": "9fd80188-2691-44f9-a0ca-5391e4fcde85",
   "metadata": {},
   "outputs": [],
   "source": [
    "raw3['title']=raw3['title'].fillna('Unknown_title')"
   ]
  },
  {
   "cell_type": "markdown",
   "id": "0e3021df-bef3-468d-a861-6d2ca226cac5",
   "metadata": {},
   "source": [
    "#### Cleaning Missing/Null values in 'mths_since_last_delinq':"
   ]
  },
  {
   "cell_type": "code",
   "execution_count": 920,
   "id": "7b0e21d5-e4d7-4012-b2d1-e81154701900",
   "metadata": {},
   "outputs": [
    {
     "data": {
      "text/plain": [
       "0.0      443\n",
       "15.0     252\n",
       "30.0     247\n",
       "23.0     247\n",
       "24.0     241\n",
       "        ... \n",
       "89.0       1\n",
       "107.0      1\n",
       "85.0       1\n",
       "97.0       1\n",
       "95.0       1\n",
       "Name: mths_since_last_delinq, Length: 95, dtype: int64"
      ]
     },
     "execution_count": 920,
     "metadata": {},
     "output_type": "execute_result"
    }
   ],
   "source": [
    "#Checking Fill Rate\n",
    "raw3['mths_since_last_delinq'].value_counts()"
   ]
  },
  {
   "cell_type": "code",
   "execution_count": 921,
   "id": "3480e322-b5dd-45e2-afa7-1ad03a2ab44e",
   "metadata": {},
   "outputs": [
    {
     "data": {
      "text/plain": [
       "count    14035.000000\n",
       "mean        35.900962\n",
       "std         22.020060\n",
       "min          0.000000\n",
       "25%         18.000000\n",
       "50%         34.000000\n",
       "75%         52.000000\n",
       "max        120.000000\n",
       "Name: mths_since_last_delinq, dtype: float64"
      ]
     },
     "execution_count": 921,
     "metadata": {},
     "output_type": "execute_result"
    }
   ],
   "source": [
    "# Describing the median\n",
    "raw3['mths_since_last_delinq'].describe()"
   ]
  },
  {
   "cell_type": "code",
   "execution_count": 922,
   "id": "65caa08a-a71a-498a-9170-1393a2ad8b7b",
   "metadata": {},
   "outputs": [],
   "source": [
    "#Assigning Median values to the missing columns\n",
    "msld_median=raw3['mths_since_last_delinq'].median()\n",
    "\n",
    "raw3['mths_since_last_delinq']=raw3['mths_since_last_delinq'].fillna(msld_median)"
   ]
  },
  {
   "cell_type": "markdown",
   "id": "af21bf1b-a595-42fa-953c-8d248c57efc8",
   "metadata": {},
   "source": [
    "#### Cleaning Missing/Null values in 'pub_rec_bankruptcies':"
   ]
  },
  {
   "cell_type": "code",
   "execution_count": 923,
   "id": "8fd22dec-f7b4-47f3-9add-daa7821f0b37",
   "metadata": {},
   "outputs": [
    {
     "data": {
      "text/plain": [
       "array([ 0.,  1.,  2., nan])"
      ]
     },
     "execution_count": 923,
     "metadata": {},
     "output_type": "execute_result"
    }
   ],
   "source": [
    "raw3['pub_rec_bankruptcies'].unique()"
   ]
  },
  {
   "cell_type": "code",
   "execution_count": 924,
   "id": "5df53b56-8900-4d46-a687-fdeaf9d9eea5",
   "metadata": {},
   "outputs": [
    {
     "data": {
      "text/plain": [
       "count    39020.000000\n",
       "mean         0.043260\n",
       "std          0.204324\n",
       "min          0.000000\n",
       "25%          0.000000\n",
       "50%          0.000000\n",
       "75%          0.000000\n",
       "max          2.000000\n",
       "Name: pub_rec_bankruptcies, dtype: float64"
      ]
     },
     "execution_count": 924,
     "metadata": {},
     "output_type": "execute_result"
    }
   ],
   "source": [
    "raw3['pub_rec_bankruptcies'].describe()"
   ]
  },
  {
   "cell_type": "code",
   "execution_count": 925,
   "id": "2dd25c5b-dfac-4961-bfd3-91e2c60d8fce",
   "metadata": {},
   "outputs": [],
   "source": [
    "#Assigning Median values to the missing columns\n",
    "prb=raw3['pub_rec_bankruptcies'].median()\n",
    "raw3['pub_rec_bankruptcies']=raw3['pub_rec_bankruptcies'].fillna(prb)"
   ]
  },
  {
   "cell_type": "markdown",
   "id": "a7e7d3ef-1391-4d0a-a7c1-0c12d0048d89",
   "metadata": {},
   "source": [
    "### Null Record Check After Data Cleanising"
   ]
  },
  {
   "cell_type": "code",
   "execution_count": 926,
   "id": "91a368fc-35e2-405a-9fe5-a1847b5f2300",
   "metadata": {},
   "outputs": [
    {
     "name": "stdout",
     "output_type": "stream",
     "text": [
      "<class 'pandas.core.frame.DataFrame'>\n",
      "Int64Index: 39717 entries, 0 to 39716\n",
      "Data columns (total 21 columns):\n",
      " #   Column                  Non-Null Count  Dtype  \n",
      "---  ------                  --------------  -----  \n",
      " 0   loan_amnt               39717 non-null  float64\n",
      " 1   funded_amnt             39717 non-null  float64\n",
      " 2   funded_amnt_inv         39717 non-null  float64\n",
      " 3   term                    39717 non-null  int64  \n",
      " 4   int_rate                39717 non-null  float64\n",
      " 5   installment             39717 non-null  float64\n",
      " 6   grade                   39717 non-null  object \n",
      " 7   sub_grade               39717 non-null  object \n",
      " 8   emp_title               39717 non-null  object \n",
      " 9   emp_length              39717 non-null  int64  \n",
      " 10  home_ownership          39717 non-null  object \n",
      " 11  annual_inc              39717 non-null  float64\n",
      " 12  verification_status     39717 non-null  object \n",
      " 13  issue_d                 39717 non-null  object \n",
      " 14  loan_status             39717 non-null  object \n",
      " 15  purpose                 39717 non-null  object \n",
      " 16  title                   39717 non-null  object \n",
      " 17  addr_state              39717 non-null  object \n",
      " 18  dti                     39717 non-null  float64\n",
      " 19  mths_since_last_delinq  39717 non-null  float64\n",
      " 20  pub_rec_bankruptcies    39717 non-null  float64\n",
      "dtypes: float64(9), int64(2), object(10)\n",
      "memory usage: 6.7+ MB\n"
     ]
    }
   ],
   "source": [
    "raw3.info()"
   ]
  },
  {
   "cell_type": "markdown",
   "id": "79744bc2-688b-4d01-a895-b7b3ad12abed",
   "metadata": {},
   "source": [
    "### Toal numerical and categorical columns after Data Cleanising"
   ]
  },
  {
   "cell_type": "code",
   "execution_count": 927,
   "id": "47d36aa9-3e1b-4290-bb15-96256e3a9a90",
   "metadata": {},
   "outputs": [
    {
     "name": "stdout",
     "output_type": "stream",
     "text": [
      "Total number of numeric Columns: 11\n",
      "Total number of categorical Columns: 10\n"
     ]
    }
   ],
   "source": [
    "print('Total number of numeric Columns: {}'.format( len([col for col in raw3 if raw3[col].dtype!='object'])))\n",
    "print('Total number of categorical Columns: {}'.format( len([col for col in raw3 if raw3[col].dtype=='object'])))\n"
   ]
  },
  {
   "cell_type": "code",
   "execution_count": 928,
   "id": "60a6b503-ee34-4643-802b-963006e8628b",
   "metadata": {},
   "outputs": [
    {
     "data": {
      "text/html": [
       "<div>\n",
       "<style scoped>\n",
       "    .dataframe tbody tr th:only-of-type {\n",
       "        vertical-align: middle;\n",
       "    }\n",
       "\n",
       "    .dataframe tbody tr th {\n",
       "        vertical-align: top;\n",
       "    }\n",
       "\n",
       "    .dataframe thead th {\n",
       "        text-align: right;\n",
       "    }\n",
       "</style>\n",
       "<table border=\"1\" class=\"dataframe\">\n",
       "  <thead>\n",
       "    <tr style=\"text-align: right;\">\n",
       "      <th></th>\n",
       "      <th>loan_amnt</th>\n",
       "      <th>funded_amnt</th>\n",
       "      <th>funded_amnt_inv</th>\n",
       "      <th>term</th>\n",
       "      <th>int_rate</th>\n",
       "      <th>installment</th>\n",
       "      <th>grade</th>\n",
       "      <th>sub_grade</th>\n",
       "      <th>emp_title</th>\n",
       "      <th>emp_length</th>\n",
       "      <th>home_ownership</th>\n",
       "      <th>annual_inc</th>\n",
       "      <th>verification_status</th>\n",
       "      <th>issue_d</th>\n",
       "      <th>loan_status</th>\n",
       "      <th>purpose</th>\n",
       "      <th>title</th>\n",
       "      <th>addr_state</th>\n",
       "      <th>dti</th>\n",
       "      <th>mths_since_last_delinq</th>\n",
       "      <th>pub_rec_bankruptcies</th>\n",
       "    </tr>\n",
       "  </thead>\n",
       "  <tbody>\n",
       "    <tr>\n",
       "      <th>0</th>\n",
       "      <td>5000.0</td>\n",
       "      <td>5000.0</td>\n",
       "      <td>4975.0</td>\n",
       "      <td>36</td>\n",
       "      <td>10.65</td>\n",
       "      <td>162.87</td>\n",
       "      <td>B</td>\n",
       "      <td>B2</td>\n",
       "      <td>Unknown</td>\n",
       "      <td>10</td>\n",
       "      <td>RENT</td>\n",
       "      <td>24000.0</td>\n",
       "      <td>Verified</td>\n",
       "      <td>Dec-11</td>\n",
       "      <td>Fully Paid</td>\n",
       "      <td>credit_card</td>\n",
       "      <td>Computer</td>\n",
       "      <td>AZ</td>\n",
       "      <td>27.65</td>\n",
       "      <td>34.0</td>\n",
       "      <td>0.0</td>\n",
       "    </tr>\n",
       "    <tr>\n",
       "      <th>1</th>\n",
       "      <td>2500.0</td>\n",
       "      <td>2500.0</td>\n",
       "      <td>2500.0</td>\n",
       "      <td>60</td>\n",
       "      <td>15.27</td>\n",
       "      <td>59.83</td>\n",
       "      <td>C</td>\n",
       "      <td>C4</td>\n",
       "      <td>Ryder</td>\n",
       "      <td>1</td>\n",
       "      <td>RENT</td>\n",
       "      <td>30000.0</td>\n",
       "      <td>Source Verified</td>\n",
       "      <td>Dec-11</td>\n",
       "      <td>Charged Off</td>\n",
       "      <td>car</td>\n",
       "      <td>bike</td>\n",
       "      <td>GA</td>\n",
       "      <td>1.00</td>\n",
       "      <td>34.0</td>\n",
       "      <td>0.0</td>\n",
       "    </tr>\n",
       "    <tr>\n",
       "      <th>2</th>\n",
       "      <td>2400.0</td>\n",
       "      <td>2400.0</td>\n",
       "      <td>2400.0</td>\n",
       "      <td>36</td>\n",
       "      <td>15.96</td>\n",
       "      <td>84.33</td>\n",
       "      <td>C</td>\n",
       "      <td>C5</td>\n",
       "      <td>Unknown</td>\n",
       "      <td>10</td>\n",
       "      <td>RENT</td>\n",
       "      <td>12252.0</td>\n",
       "      <td>Not Verified</td>\n",
       "      <td>Dec-11</td>\n",
       "      <td>Fully Paid</td>\n",
       "      <td>small_business</td>\n",
       "      <td>real estate business</td>\n",
       "      <td>IL</td>\n",
       "      <td>8.72</td>\n",
       "      <td>34.0</td>\n",
       "      <td>0.0</td>\n",
       "    </tr>\n",
       "    <tr>\n",
       "      <th>3</th>\n",
       "      <td>10000.0</td>\n",
       "      <td>10000.0</td>\n",
       "      <td>10000.0</td>\n",
       "      <td>36</td>\n",
       "      <td>13.49</td>\n",
       "      <td>339.31</td>\n",
       "      <td>C</td>\n",
       "      <td>C1</td>\n",
       "      <td>AIR RESOURCES BOARD</td>\n",
       "      <td>10</td>\n",
       "      <td>RENT</td>\n",
       "      <td>49200.0</td>\n",
       "      <td>Source Verified</td>\n",
       "      <td>Dec-11</td>\n",
       "      <td>Fully Paid</td>\n",
       "      <td>other</td>\n",
       "      <td>personel</td>\n",
       "      <td>CA</td>\n",
       "      <td>20.00</td>\n",
       "      <td>35.0</td>\n",
       "      <td>0.0</td>\n",
       "    </tr>\n",
       "    <tr>\n",
       "      <th>4</th>\n",
       "      <td>3000.0</td>\n",
       "      <td>3000.0</td>\n",
       "      <td>3000.0</td>\n",
       "      <td>60</td>\n",
       "      <td>12.69</td>\n",
       "      <td>67.79</td>\n",
       "      <td>B</td>\n",
       "      <td>B5</td>\n",
       "      <td>University Medical Group</td>\n",
       "      <td>1</td>\n",
       "      <td>RENT</td>\n",
       "      <td>80000.0</td>\n",
       "      <td>Source Verified</td>\n",
       "      <td>Dec-11</td>\n",
       "      <td>Current</td>\n",
       "      <td>other</td>\n",
       "      <td>Personal</td>\n",
       "      <td>OR</td>\n",
       "      <td>17.94</td>\n",
       "      <td>38.0</td>\n",
       "      <td>0.0</td>\n",
       "    </tr>\n",
       "  </tbody>\n",
       "</table>\n",
       "</div>"
      ],
      "text/plain": [
       "   loan_amnt  funded_amnt  funded_amnt_inv  term  int_rate  installment grade  \\\n",
       "0     5000.0       5000.0           4975.0    36     10.65       162.87     B   \n",
       "1     2500.0       2500.0           2500.0    60     15.27        59.83     C   \n",
       "2     2400.0       2400.0           2400.0    36     15.96        84.33     C   \n",
       "3    10000.0      10000.0          10000.0    36     13.49       339.31     C   \n",
       "4     3000.0       3000.0           3000.0    60     12.69        67.79     B   \n",
       "\n",
       "  sub_grade                 emp_title  emp_length home_ownership  annual_inc  \\\n",
       "0        B2                   Unknown          10           RENT     24000.0   \n",
       "1        C4                     Ryder           1           RENT     30000.0   \n",
       "2        C5                   Unknown          10           RENT     12252.0   \n",
       "3        C1       AIR RESOURCES BOARD          10           RENT     49200.0   \n",
       "4        B5  University Medical Group           1           RENT     80000.0   \n",
       "\n",
       "  verification_status issue_d  loan_status         purpose  \\\n",
       "0            Verified  Dec-11   Fully Paid     credit_card   \n",
       "1     Source Verified  Dec-11  Charged Off             car   \n",
       "2        Not Verified  Dec-11   Fully Paid  small_business   \n",
       "3     Source Verified  Dec-11   Fully Paid           other   \n",
       "4     Source Verified  Dec-11      Current           other   \n",
       "\n",
       "                  title addr_state    dti  mths_since_last_delinq  \\\n",
       "0              Computer         AZ  27.65                    34.0   \n",
       "1                  bike         GA   1.00                    34.0   \n",
       "2  real estate business         IL   8.72                    34.0   \n",
       "3              personel         CA  20.00                    35.0   \n",
       "4              Personal         OR  17.94                    38.0   \n",
       "\n",
       "   pub_rec_bankruptcies  \n",
       "0                   0.0  \n",
       "1                   0.0  \n",
       "2                   0.0  \n",
       "3                   0.0  \n",
       "4                   0.0  "
      ]
     },
     "execution_count": 928,
     "metadata": {},
     "output_type": "execute_result"
    }
   ],
   "source": [
    "raw3.head()"
   ]
  },
  {
   "cell_type": "markdown",
   "id": "e541bfc7-782d-4693-9058-3f9fbff4084f",
   "metadata": {},
   "source": [
    "#### Data Observation:\n",
    "Afte looking in to the loan status (Fully paid, charged Off, current ), the loan data which are currently active can be excluded since they don't have an outcome for the analysis. Final dataset will be filtered with Fully paid (customers who have paid their loan completely) and charged off (customers who defaulted their loan and charged off for the same)"
   ]
  },
  {
   "cell_type": "code",
   "execution_count": 930,
   "id": "12f1cb5f-acb7-4300-b7d4-342ca28de58c",
   "metadata": {},
   "outputs": [],
   "source": [
    "raw4=raw3[~(raw3['loan_status']=='Current')]"
   ]
  },
  {
   "cell_type": "code",
   "execution_count": 931,
   "id": "d1db4d71-f27e-4ff2-b04e-1c855201bcf3",
   "metadata": {},
   "outputs": [
    {
     "data": {
      "text/plain": [
       "(38577, 21)"
      ]
     },
     "execution_count": 931,
     "metadata": {},
     "output_type": "execute_result"
    }
   ],
   "source": [
    "raw4.shape"
   ]
  },
  {
   "cell_type": "markdown",
   "id": "f9f38930-214b-42dc-839e-58b48b84401d",
   "metadata": {},
   "source": [
    "# Data Analysis\n",
    "\n",
    "### Check Points:\n",
    "Checking for outliers from the applicable columns to remove any outlier that will deviate the analysis and may affect the final model"
   ]
  },
  {
   "cell_type": "code",
   "execution_count": 940,
   "id": "33832947-690a-4edb-808d-0c9aa4083874",
   "metadata": {},
   "outputs": [
    {
     "data": {
      "text/plain": [
       "Index(['loan_amnt', 'funded_amnt', 'funded_amnt_inv', 'term', 'int_rate',\n",
       "       'installment', 'grade', 'sub_grade', 'emp_title', 'emp_length',\n",
       "       'home_ownership', 'annual_inc', 'verification_status', 'issue_d',\n",
       "       'loan_status', 'purpose', 'title', 'addr_state', 'dti',\n",
       "       'mths_since_last_delinq', 'pub_rec_bankruptcies'],\n",
       "      dtype='object')"
      ]
     },
     "execution_count": 940,
     "metadata": {},
     "output_type": "execute_result"
    }
   ],
   "source": [
    "raw4.columns"
   ]
  },
  {
   "cell_type": "markdown",
   "id": "68043266-1d8a-4d42-8297-9cebe3de7d06",
   "metadata": {},
   "source": [
    "### Data Distribution analysis for the below Loan Amounts:\n",
    "\n",
    "* loan_amnt:The Loan amount is the initally requested amount by the customer as per his requirmenet\n",
    "* funded_amnt:The funded amount is the amount proposed by the lending club after analysing the potential risks for that customers and his portfolio.\n",
    "* funded_amnt_inv: The total loan amount processed by the Investor as per their organizations financial threshold and norms."
   ]
  },
  {
   "cell_type": "code",
   "execution_count": 942,
   "id": "c48e6aa5-7da0-4a15-89f1-573fe80c6c8e",
   "metadata": {
    "tags": []
   },
   "outputs": [
    {
     "data": {
      "text/plain": [
       "(38577, 21)"
      ]
     },
     "execution_count": 942,
     "metadata": {},
     "output_type": "execute_result"
    }
   ],
   "source": [
    "raw4.shape"
   ]
  },
  {
   "cell_type": "code",
   "execution_count": 944,
   "id": "d0d418be-f253-4e49-8315-ef329a994d5b",
   "metadata": {},
   "outputs": [
    {
     "data": {
      "text/html": [
       "<div>\n",
       "<style scoped>\n",
       "    .dataframe tbody tr th:only-of-type {\n",
       "        vertical-align: middle;\n",
       "    }\n",
       "\n",
       "    .dataframe tbody tr th {\n",
       "        vertical-align: top;\n",
       "    }\n",
       "\n",
       "    .dataframe thead th {\n",
       "        text-align: right;\n",
       "    }\n",
       "</style>\n",
       "<table border=\"1\" class=\"dataframe\">\n",
       "  <thead>\n",
       "    <tr style=\"text-align: right;\">\n",
       "      <th></th>\n",
       "      <th>loan_amnt</th>\n",
       "      <th>funded_amnt</th>\n",
       "      <th>funded_amnt_inv</th>\n",
       "      <th>term</th>\n",
       "      <th>int_rate</th>\n",
       "      <th>installment</th>\n",
       "      <th>grade</th>\n",
       "      <th>sub_grade</th>\n",
       "      <th>emp_title</th>\n",
       "      <th>emp_length</th>\n",
       "      <th>home_ownership</th>\n",
       "      <th>annual_inc</th>\n",
       "      <th>verification_status</th>\n",
       "      <th>issue_d</th>\n",
       "      <th>loan_status</th>\n",
       "      <th>purpose</th>\n",
       "      <th>title</th>\n",
       "      <th>addr_state</th>\n",
       "      <th>dti</th>\n",
       "      <th>mths_since_last_delinq</th>\n",
       "      <th>pub_rec_bankruptcies</th>\n",
       "    </tr>\n",
       "  </thead>\n",
       "  <tbody>\n",
       "    <tr>\n",
       "      <th>0</th>\n",
       "      <td>5000.0</td>\n",
       "      <td>5000.0</td>\n",
       "      <td>4975.0</td>\n",
       "      <td>36</td>\n",
       "      <td>10.65</td>\n",
       "      <td>162.87</td>\n",
       "      <td>B</td>\n",
       "      <td>B2</td>\n",
       "      <td>Unknown</td>\n",
       "      <td>10</td>\n",
       "      <td>RENT</td>\n",
       "      <td>24000.0</td>\n",
       "      <td>Verified</td>\n",
       "      <td>Dec-11</td>\n",
       "      <td>Fully Paid</td>\n",
       "      <td>credit_card</td>\n",
       "      <td>Computer</td>\n",
       "      <td>AZ</td>\n",
       "      <td>27.65</td>\n",
       "      <td>34.0</td>\n",
       "      <td>0.0</td>\n",
       "    </tr>\n",
       "    <tr>\n",
       "      <th>1</th>\n",
       "      <td>2500.0</td>\n",
       "      <td>2500.0</td>\n",
       "      <td>2500.0</td>\n",
       "      <td>60</td>\n",
       "      <td>15.27</td>\n",
       "      <td>59.83</td>\n",
       "      <td>C</td>\n",
       "      <td>C4</td>\n",
       "      <td>Ryder</td>\n",
       "      <td>1</td>\n",
       "      <td>RENT</td>\n",
       "      <td>30000.0</td>\n",
       "      <td>Source Verified</td>\n",
       "      <td>Dec-11</td>\n",
       "      <td>Charged Off</td>\n",
       "      <td>car</td>\n",
       "      <td>bike</td>\n",
       "      <td>GA</td>\n",
       "      <td>1.00</td>\n",
       "      <td>34.0</td>\n",
       "      <td>0.0</td>\n",
       "    </tr>\n",
       "    <tr>\n",
       "      <th>2</th>\n",
       "      <td>2400.0</td>\n",
       "      <td>2400.0</td>\n",
       "      <td>2400.0</td>\n",
       "      <td>36</td>\n",
       "      <td>15.96</td>\n",
       "      <td>84.33</td>\n",
       "      <td>C</td>\n",
       "      <td>C5</td>\n",
       "      <td>Unknown</td>\n",
       "      <td>10</td>\n",
       "      <td>RENT</td>\n",
       "      <td>12252.0</td>\n",
       "      <td>Not Verified</td>\n",
       "      <td>Dec-11</td>\n",
       "      <td>Fully Paid</td>\n",
       "      <td>small_business</td>\n",
       "      <td>real estate business</td>\n",
       "      <td>IL</td>\n",
       "      <td>8.72</td>\n",
       "      <td>34.0</td>\n",
       "      <td>0.0</td>\n",
       "    </tr>\n",
       "    <tr>\n",
       "      <th>3</th>\n",
       "      <td>10000.0</td>\n",
       "      <td>10000.0</td>\n",
       "      <td>10000.0</td>\n",
       "      <td>36</td>\n",
       "      <td>13.49</td>\n",
       "      <td>339.31</td>\n",
       "      <td>C</td>\n",
       "      <td>C1</td>\n",
       "      <td>AIR RESOURCES BOARD</td>\n",
       "      <td>10</td>\n",
       "      <td>RENT</td>\n",
       "      <td>49200.0</td>\n",
       "      <td>Source Verified</td>\n",
       "      <td>Dec-11</td>\n",
       "      <td>Fully Paid</td>\n",
       "      <td>other</td>\n",
       "      <td>personel</td>\n",
       "      <td>CA</td>\n",
       "      <td>20.00</td>\n",
       "      <td>35.0</td>\n",
       "      <td>0.0</td>\n",
       "    </tr>\n",
       "    <tr>\n",
       "      <th>5</th>\n",
       "      <td>5000.0</td>\n",
       "      <td>5000.0</td>\n",
       "      <td>5000.0</td>\n",
       "      <td>36</td>\n",
       "      <td>7.90</td>\n",
       "      <td>156.46</td>\n",
       "      <td>A</td>\n",
       "      <td>A4</td>\n",
       "      <td>Veolia Transportaton</td>\n",
       "      <td>3</td>\n",
       "      <td>RENT</td>\n",
       "      <td>36000.0</td>\n",
       "      <td>Source Verified</td>\n",
       "      <td>Dec-11</td>\n",
       "      <td>Fully Paid</td>\n",
       "      <td>wedding</td>\n",
       "      <td>My wedding loan I promise to pay back</td>\n",
       "      <td>AZ</td>\n",
       "      <td>11.20</td>\n",
       "      <td>34.0</td>\n",
       "      <td>0.0</td>\n",
       "    </tr>\n",
       "  </tbody>\n",
       "</table>\n",
       "</div>"
      ],
      "text/plain": [
       "   loan_amnt  funded_amnt  funded_amnt_inv  term  int_rate  installment grade  \\\n",
       "0     5000.0       5000.0           4975.0    36     10.65       162.87     B   \n",
       "1     2500.0       2500.0           2500.0    60     15.27        59.83     C   \n",
       "2     2400.0       2400.0           2400.0    36     15.96        84.33     C   \n",
       "3    10000.0      10000.0          10000.0    36     13.49       339.31     C   \n",
       "5     5000.0       5000.0           5000.0    36      7.90       156.46     A   \n",
       "\n",
       "  sub_grade             emp_title  emp_length home_ownership  annual_inc  \\\n",
       "0        B2               Unknown          10           RENT     24000.0   \n",
       "1        C4                 Ryder           1           RENT     30000.0   \n",
       "2        C5               Unknown          10           RENT     12252.0   \n",
       "3        C1   AIR RESOURCES BOARD          10           RENT     49200.0   \n",
       "5        A4  Veolia Transportaton           3           RENT     36000.0   \n",
       "\n",
       "  verification_status issue_d  loan_status         purpose  \\\n",
       "0            Verified  Dec-11   Fully Paid     credit_card   \n",
       "1     Source Verified  Dec-11  Charged Off             car   \n",
       "2        Not Verified  Dec-11   Fully Paid  small_business   \n",
       "3     Source Verified  Dec-11   Fully Paid           other   \n",
       "5     Source Verified  Dec-11   Fully Paid         wedding   \n",
       "\n",
       "                                   title addr_state    dti  \\\n",
       "0                               Computer         AZ  27.65   \n",
       "1                                   bike         GA   1.00   \n",
       "2                   real estate business         IL   8.72   \n",
       "3                               personel         CA  20.00   \n",
       "5  My wedding loan I promise to pay back         AZ  11.20   \n",
       "\n",
       "   mths_since_last_delinq  pub_rec_bankruptcies  \n",
       "0                    34.0                   0.0  \n",
       "1                    34.0                   0.0  \n",
       "2                    34.0                   0.0  \n",
       "3                    35.0                   0.0  \n",
       "5                    34.0                   0.0  "
      ]
     },
     "execution_count": 944,
     "metadata": {},
     "output_type": "execute_result"
    }
   ],
   "source": [
    "raw4.head()"
   ]
  },
  {
   "cell_type": "code",
   "execution_count": null,
   "id": "3b08e1c0-b503-40ca-b8d6-1538fd8579ee",
   "metadata": {},
   "outputs": [],
   "source": [
    "raw4['int_rate'].value_counts()"
   ]
  },
  {
   "cell_type": "code",
   "execution_count": 960,
   "id": "ef7be6c1-5f84-483b-85fc-793e9b4fef0b",
   "metadata": {},
   "outputs": [
    {
     "name": "stdout",
     "output_type": "stream",
     "text": [
      "<class 'pandas.core.frame.DataFrame'>\n",
      "Int64Index: 38577 entries, 0 to 39716\n",
      "Data columns (total 21 columns):\n",
      " #   Column                  Non-Null Count  Dtype  \n",
      "---  ------                  --------------  -----  \n",
      " 0   loan_amnt               38577 non-null  float64\n",
      " 1   funded_amnt             38577 non-null  float64\n",
      " 2   funded_amnt_inv         38577 non-null  float64\n",
      " 3   term                    38577 non-null  int64  \n",
      " 4   int_rate                38577 non-null  float64\n",
      " 5   installment             38577 non-null  float64\n",
      " 6   grade                   38577 non-null  object \n",
      " 7   sub_grade               38577 non-null  object \n",
      " 8   emp_title               38577 non-null  object \n",
      " 9   emp_length              38577 non-null  int64  \n",
      " 10  home_ownership          38577 non-null  object \n",
      " 11  annual_inc              38577 non-null  float64\n",
      " 12  verification_status     38577 non-null  object \n",
      " 13  issue_d                 38577 non-null  object \n",
      " 14  loan_status             38577 non-null  object \n",
      " 15  purpose                 38577 non-null  object \n",
      " 16  title                   38577 non-null  object \n",
      " 17  addr_state              38577 non-null  object \n",
      " 18  dti                     38577 non-null  float64\n",
      " 19  mths_since_last_delinq  38577 non-null  float64\n",
      " 20  pub_rec_bankruptcies    38577 non-null  float64\n",
      "dtypes: float64(9), int64(2), object(10)\n",
      "memory usage: 6.5+ MB\n"
     ]
    }
   ],
   "source": [
    "raw4.info()"
   ]
  },
  {
   "cell_type": "code",
   "execution_count": 966,
   "id": "5f279fbd-3773-462d-912e-e42c861e8097",
   "metadata": {},
   "outputs": [
    {
     "data": {
      "text/plain": [
       "['loan_amnt',\n",
       " 'funded_amnt',\n",
       " 'funded_amnt_inv',\n",
       " 'term',\n",
       " 'int_rate',\n",
       " 'installment',\n",
       " 'emp_length',\n",
       " 'annual_inc',\n",
       " 'dti',\n",
       " 'mths_since_last_delinq',\n",
       " 'pub_rec_bankruptcies']"
      ]
     },
     "execution_count": 966,
     "metadata": {},
     "output_type": "execute_result"
    }
   ],
   "source": [
    "\n",
    "Numerical=[col for col in raw3 if raw3[col].dtype!='object']\n",
    "Categorical=[col for col in raw3 if raw3[col].dtype=='object']\n"
   ]
  },
  {
   "cell_type": "code",
   "execution_count": 971,
   "id": "0b252263-fa35-4c78-9ea7-2d96754fe896",
   "metadata": {},
   "outputs": [
    {
     "data": {
      "text/plain": [
       "['loan_amnt',\n",
       " 'funded_amnt',\n",
       " 'funded_amnt_inv',\n",
       " 'term',\n",
       " 'int_rate',\n",
       " 'installment',\n",
       " 'emp_length',\n",
       " 'annual_inc',\n",
       " 'dti',\n",
       " 'mths_since_last_delinq',\n",
       " 'pub_rec_bankruptcies']"
      ]
     },
     "execution_count": 971,
     "metadata": {},
     "output_type": "execute_result"
    }
   ],
   "source": [
    "Numerical"
   ]
  },
  {
   "cell_type": "code",
   "execution_count": 994,
   "id": "be23cd03-534e-40be-8791-bec2cb1a4a6e",
   "metadata": {},
   "outputs": [
    {
     "data": {
      "text/plain": [
       "count    38577.000000\n",
       "mean     11047.025430\n",
       "std       7348.441646\n",
       "min        500.000000\n",
       "25%       5300.000000\n",
       "50%       9600.000000\n",
       "75%      15000.000000\n",
       "max      35000.000000\n",
       "Name: loan_amnt, dtype: float64"
      ]
     },
     "execution_count": 994,
     "metadata": {},
     "output_type": "execute_result"
    }
   ],
   "source": [
    "raw4['loan_amnt'].describe()"
   ]
  },
  {
   "cell_type": "code",
   "execution_count": 1002,
   "id": "b16b9584-d298-4b31-80db-a4e349f95719",
   "metadata": {},
   "outputs": [
    {
     "data": {
      "image/png": "[encoded data removed]",
      "text/plain": [
       "<Figure size 640x480 with 1 Axes>"
      ]
     },
     "metadata": {},
     "output_type": "display_data"
    }
   ],
   "source": [
    "plt.hist(raw4['loan_amnt'],bins=35,edgecolor='black')\n",
    "plt.show()"
   ]
  },
  {
   "cell_type": "code",
   "execution_count": 990,
   "id": "7015e07b-7dc4-4b68-90c9-f667105d397c",
   "metadata": {},
   "outputs": [
    {
     "data": {
      "image/png": "[encoded data removed]",
      "text/plain": [
       "<Figure size 500x500 with 1 Axes>"
      ]
     },
     "metadata": {},
     "output_type": "display_data"
    }
   ],
   "source": [
    "sns.displot(raw4['loan_amnt'],bins=35)\n",
    "plt.show()"
   ]
  },
  {
   "cell_type": "code",
   "execution_count": 993,
   "id": "5f9279dc-7d89-49af-a728-9d6cb1ba54b3",
   "metadata": {},
   "outputs": [
    {
     "data": {
      "image/png": "[encoded data removed]",
      "text/plain": [
       "<Figure size 500x500 with 1 Axes>"
      ]
     },
     "metadata": {},
     "output_type": "display_data"
    }
   ],
   "source": [
    "sns.displot(data=raw4,x='loan_amnt',kind='kde')\n",
    "plt.show()"
   ]
  },
  {
   "cell_type": "markdown",
   "id": "a18aeb70-b339-46c4-a8d7-dff5ee37445f",
   "metadata": {},
   "source": [
    "## Observations for Loan Amount:\n",
    "\n",
    "* The values lies in between 500 -35000\n",
    "* Maximum Density Lies arround 25% (in between 5000 -10000)"
   ]
  },
  {
   "cell_type": "markdown",
   "id": "56a0db70-5ad5-4033-98a9-0a36bc967f65",
   "metadata": {},
   "source": [
    "## Univariate - term"
   ]
  },
  {
   "cell_type": "code",
   "execution_count": 1008,
   "id": "92b1ed33-ca87-40e9-a4eb-bd2daa0ac5cb",
   "metadata": {},
   "outputs": [
    {
     "data": {
      "text/plain": [
       "count    38577.000000\n",
       "mean        41.898437\n",
       "std         10.333136\n",
       "min         36.000000\n",
       "25%         36.000000\n",
       "50%         36.000000\n",
       "75%         36.000000\n",
       "max         60.000000\n",
       "Name: term, dtype: float64"
      ]
     },
     "execution_count": 1008,
     "metadata": {},
     "output_type": "execute_result"
    }
   ],
   "source": [
    "raw4['term'].describe()"
   ]
  },
  {
   "cell_type": "code",
   "execution_count": 1010,
   "id": "cc9727c9-dad0-4ab8-8383-07754faf7e60",
   "metadata": {},
   "outputs": [
    {
     "data": {
      "text/plain": [
       "36    75.0\n",
       "60    25.0\n",
       "Name: term, dtype: float64"
      ]
     },
     "execution_count": 1010,
     "metadata": {},
     "output_type": "execute_result"
    }
   ],
   "source": [
    "round(raw4['term'].value_counts()*100/len(raw4['term']))"
   ]
  },
  {
   "cell_type": "code",
   "execution_count": 1006,
   "id": "74c26f6a-94eb-4e7b-b3a5-3851d5b0a391",
   "metadata": {},
   "outputs": [
    {
     "data": {
      "image/png": "[encoded data removed]",
      "text/plain": [
       "<Figure size 500x500 with 1 Axes>"
      ]
     },
     "metadata": {},
     "output_type": "display_data"
    }
   ],
   "source": [
    "sns.displot(data=raw4,x='term',kind='kde')\n",
    "plt.show()"
   ]
  },
  {
   "cell_type": "code",
   "execution_count": 1017,
   "id": "b6320909-2f05-46d3-b62a-bb0391faf7db",
   "metadata": {},
   "outputs": [
    {
     "data": {
      "image/png": "[encoded data removed]",
      "text/plain": [
       "<Figure size 640x480 with 1 Axes>"
      ]
     },
     "metadata": {},
     "output_type": "display_data"
    }
   ],
   "source": [
    "sns.countplot(x ='term', data = raw4)\n",
    "plt.xlabel('Term in Months')\n",
    "plt.ylabel('Number of Payments')\n",
    "plt.title('Distribution of Payments on the Loan \\n')\n",
    "# Show the plot\n",
    "plt.show()"
   ]
  },
  {
   "cell_type": "markdown",
   "id": "9163f3b4-bf89-44a1-9c18-244d075ab3b8",
   "metadata": {},
   "source": [
    "## Observation\n",
    "* 75% of the loans are for term 36 month"
   ]
  },
  {
   "cell_type": "markdown",
   "id": "5d80a032-446b-4bc9-84fa-3acf43cf5235",
   "metadata": {},
   "source": [
    "# Univariate For  'Interest Rate' (int_rate)"
   ]
  },
  {
   "cell_type": "code",
   "execution_count": 1020,
   "id": "608e2123-0399-4b67-a760-19700cf42ad2",
   "metadata": {},
   "outputs": [
    {
     "data": {
      "text/plain": [
       "count    38577.000000\n",
       "mean        11.932219\n",
       "std          3.691327\n",
       "min          5.420000\n",
       "25%          8.940000\n",
       "50%         11.710000\n",
       "75%         14.380000\n",
       "max         24.400000\n",
       "Name: int_rate, dtype: float64"
      ]
     },
     "execution_count": 1020,
     "metadata": {},
     "output_type": "execute_result"
    }
   ],
   "source": [
    "raw4.int_rate.describe()"
   ]
  },
  {
   "cell_type": "code",
   "execution_count": 1048,
   "id": "adebf344-9ca1-4f7d-9384-b6749cc0c361",
   "metadata": {},
   "outputs": [
    {
     "data": {
      "image/png": "[encoded data removed]",
      "text/plain": [
       "<Figure size 640x480 with 1 Axes>"
      ]
     },
     "metadata": {},
     "output_type": "display_data"
    }
   ],
   "source": [
    "\n",
    "#sns.set_theme(style=\"whitegrid\", palette=\"pastel\")\n",
    "\n",
    "plt.style.use(\"ggplot\")\n",
    "sns.histplot(data=raw4, x='int_rate',bins=25,kde=True)\n",
    "plt.xlabel('Interest Rate in Percentage')\n",
    "plt.ylabel('Count')\n",
    "plt.title('Distribution of Interest Rate\\n')\n",
    "plt.show()"
   ]
  },
  {
   "cell_type": "markdown",
   "id": "e524d2e7-88bb-46ad-9348-2614bb26a699",
   "metadata": {},
   "source": [
    "## Observation\n",
    "\n",
    " Majority of loans are lying in the range of these interest rates\n",
    "* 7-8%\n",
    "* 11-12%"
   ]
  },
  {
   "cell_type": "markdown",
   "id": "8407a738-ed03-4788-a528-7715e81b9995",
   "metadata": {},
   "source": [
    "## Univariate for Emp_length"
   ]
  },
  {
   "cell_type": "code",
   "execution_count": 1052,
   "id": "6cc96520-6e0a-4b1a-b513-cbdb1573feaa",
   "metadata": {},
   "outputs": [
    {
     "data": {
      "text/plain": [
       "count    38577.000000\n",
       "mean         4.925526\n",
       "std          3.453921\n",
       "min          0.000000\n",
       "25%          2.000000\n",
       "50%          4.000000\n",
       "75%          9.000000\n",
       "max         10.000000\n",
       "Name: emp_length, dtype: float64"
      ]
     },
     "execution_count": 1052,
     "metadata": {},
     "output_type": "execute_result"
    }
   ],
   "source": [
    "raw4['emp_length'].describe()"
   ]
  },
  {
   "cell_type": "code",
   "execution_count": 1073,
   "id": "1a4596cd-c52f-4861-a52d-b675a94b7b53",
   "metadata": {},
   "outputs": [
    {
     "data": {
      "image/png": "[encoded data removed]",
      "text/plain": [
       "<Figure size 500x500 with 1 Axes>"
      ]
     },
     "metadata": {},
     "output_type": "display_data"
    }
   ],
   "source": [
    "\n",
    "sns.set_style('whitegrid')\n",
    "#plt.style.use(\"white\")\n",
    "sns.displot(data=raw4, x='emp_length',bins=[0,1, 2, 3, 4, 5, 6, 7,8,9,10],discrete=True)\n",
    "plt.xlabel('Employment Length in years')\n",
    "plt.ylabel('Count')\n",
    "plt.title('Distribution of Employment Length\\n')\n",
    "plt.show()"
   ]
  },
  {
   "cell_type": "markdown",
   "id": "45023141-ee67-4132-89e5-21a7ab445d58",
   "metadata": {},
   "source": [
    "## Observation \n",
    "\n",
    "* Distribution of data is maximum for people who has 10 years of employment length\n",
    "* We have explicitly converted the < 1 year to 1 and null data's to 0.\n"
   ]
  },
  {
   "cell_type": "markdown",
   "id": "5fabb6ae-65cb-433c-9437-c36ac99aa904",
   "metadata": {},
   "source": [
    "## Univariate for Annual Income\n",
    " 'dti',\n",
    " 'mths_since_last_delinq',\n",
    " 'pub_rec_bankruptcies"
   ]
  },
  {
   "cell_type": "code",
   "execution_count": 1104,
   "id": "ef4a9ab0-d39e-43e7-bf43-77b12cb6e057",
   "metadata": {},
   "outputs": [
    {
     "data": {
      "text/plain": [
       "60000.0     1466\n",
       "50000.0     1029\n",
       "40000.0      855\n",
       "45000.0      811\n",
       "30000.0      808\n",
       "            ... \n",
       "80569.0        1\n",
       "82116.0        1\n",
       "242400.0       1\n",
       "133300.0       1\n",
       "27376.0        1\n",
       "Name: annual_inc, Length: 5215, dtype: int64"
      ]
     },
     "execution_count": 1104,
     "metadata": {},
     "output_type": "execute_result"
    }
   ],
   "source": [
    "raw4['annual_inc'].value_counts()"
   ]
  },
  {
   "cell_type": "code",
   "execution_count": 1112,
   "id": "c5189fbe-f5a2-43a7-906d-e287a697674d",
   "metadata": {},
   "outputs": [
    {
     "data": {
      "image/png": "[encoded data removed]",
      "text/plain": [
       "<Figure size 1000x600 with 1 Axes>"
      ]
     },
     "metadata": {},
     "output_type": "display_data"
    }
   ],
   "source": [
    "\n",
    "#sns.set_style('white')\n",
    "#plt.style.use(\"white\")\n",
    "plt.figure(figsize=(10, 6))\n",
    "sns.distplot(raw4['annual_inc'].astype(int)/100000,bins=20)\n",
    "\n",
    "#plt.hist(data=raw4,x='annual_inc')\n",
    "plt.xlabel('Employment Length in years')\n",
    "plt.ylabel('Count')\n",
    "plt.title('Distribution of Employment Length\\n')\n",
    "plt.show()"
   ]
  },
  {
   "cell_type": "code",
   "execution_count": 1107,
   "id": "3f27b49e-a93c-4420-8ceb-385f2dc359b4",
   "metadata": {},
   "outputs": [
    {
     "data": {
      "image/png": "[encoded data removed]",
      "text/plain": [
       "<Figure size 640x480 with 1 Axes>"
      ]
     },
     "metadata": {},
     "output_type": "display_data"
    }
   ],
   "source": [
    "\n",
    "\n",
    "plt.boxplot(raw4.annual_inc)\n",
    "plt.show()\n"
   ]
  },
  {
   "cell_type": "code",
   "execution_count": 1121,
   "id": "4c26e0f4-67c3-4b4c-af5d-3810f41dceb6",
   "metadata": {},
   "outputs": [
    {
     "data": {
      "image/png": "[encoded data removed]",
      "text/plain": [
       "<Figure size 1000x1000 with 2 Axes>"
      ]
     },
     "metadata": {},
     "output_type": "display_data"
    }
   ],
   "source": [
    "plt.figure(figsize=(10, 10))\n",
    "sns.heatmap(raw4.corr(),annot=True)\n",
    "plt.show()"
   ]
  },
  {
   "cell_type": "code",
   "execution_count": 1116,
   "id": "757d28b2-6f12-4a96-a3f6-0a914e2d0bff",
   "metadata": {},
   "outputs": [],
   "source": [
    "raw4['loan_stat_cat']=raw4['loan_status'].apply(lambda x: 1 if x=='Fully Paid' else 0)"
   ]
  },
  {
   "cell_type": "code",
   "execution_count": 1118,
   "id": "95254785-1d28-4d05-baa1-e18a8589db89",
   "metadata": {},
   "outputs": [
    {
     "data": {
      "text/plain": [
       "1    32950\n",
       "0     5627\n",
       "Name: loan_stat_cat, dtype: int64"
      ]
     },
     "execution_count": 1118,
     "metadata": {},
     "output_type": "execute_result"
    }
   ],
   "source": [
    "raw4['loan_stat_cat'].value_counts()"
   ]
  },
  {
   "cell_type": "code",
   "execution_count": 1120,
   "id": "66196328-477b-40e3-86a8-75dde00e0af6",
   "metadata": {},
   "outputs": [
    {
     "data": {
      "text/plain": [
       "Fully Paid     32950\n",
       "Charged Off     5627\n",
       "Name: loan_status, dtype: int64"
      ]
     },
     "execution_count": 1120,
     "metadata": {},
     "output_type": "execute_result"
    }
   ],
   "source": [
    "raw4['loan_status'].value_counts()"
   ]
  },
  {
   "cell_type": "code",
   "execution_count": null,
   "id": "02af3df1-8591-48df-b9d6-c2900d6dc663",
   "metadata": {},
   "outputs": [],
   "source": []
  }
 ],
 "metadata": {
  "kernelspec": {
   "display_name": "Python 3 (ipykernel)",
   "language": "python",
   "name": "python3"
  },
  "language_info": {
   "codemirror_mode": {
    "name": "ipython",
    "version": 3
   },
   "file_extension": ".py",
   "mimetype": "text/x-python",
   "name": "python",
   "nbconvert_exporter": "python",
   "pygments_lexer": "ipython3",
   "version": "3.9.13"
  }
 },
 "nbformat": 4,
 "nbformat_minor": 5
}
